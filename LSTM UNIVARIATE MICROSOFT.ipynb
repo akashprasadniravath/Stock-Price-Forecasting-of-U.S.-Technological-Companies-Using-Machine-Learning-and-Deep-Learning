{
 "cells": [
  {
   "cell_type": "code",
   "execution_count": 69,
   "id": "c0f002e1",
   "metadata": {},
   "outputs": [],
   "source": [
    "\n",
    "# setting logging to print only error messages from Sklearnex\n",
    "import logging\n",
    "logging.basicConfig()\n",
    "logging.getLogger(\"SKLEARNEX\").setLevel(logging.ERROR)\n",
    "\n",
    "import pandas as pd\n",
    "import numpy as np\n",
    "import matplotlib.pyplot as plt\n",
    "import statsmodels.api as sm\n",
    "import seaborn as sns\n",
    "from datetime import datetime\n",
    "\n",
    "#import tensorflow as tf\n",
    "import os\n",
    "\n",
    "from sklearn.metrics import mean_squared_error,mean_absolute_error\n",
    "import math\n",
    "\n",
    "import warnings\n",
    "warnings.filterwarnings(\"ignore\")\n",
    "\n",
    "sns.set_theme(palette=\"Set2\")\n",
    "\n",
    "\n",
    "def get_mda(y, yhat):\n",
    "    \"\"\"Mean Directional Accuracy, as per:\n",
    "    https://www.wikiwand.com/en/Mean_Directional_Accuracy\n",
    "    \"\"\"\n",
    "    a = np.sign(np.diff(y))\n",
    "    b = np.sign(np.diff(yhat))\n",
    "    return np.sum(a == b)/a.shape[0]"
   ]
  },
  {
   "cell_type": "code",
   "execution_count": 70,
   "id": "3ecdae3e",
   "metadata": {},
   "outputs": [
    {
     "name": "stdout",
     "output_type": "stream",
     "text": [
      "Requirement already satisfied: tensorflow in c:\\users\\akash\\anaconda\\lib\\site-packages (2.13.0)\n",
      "Requirement already satisfied: tensorflow-intel==2.13.0 in c:\\users\\akash\\anaconda\\lib\\site-packages (from tensorflow) (2.13.0)\n",
      "Requirement already satisfied: libclang>=13.0.0 in c:\\users\\akash\\anaconda\\lib\\site-packages (from tensorflow-intel==2.13.0->tensorflow) (16.0.6)\n",
      "Requirement already satisfied: h5py>=2.9.0 in c:\\users\\akash\\anaconda\\lib\\site-packages (from tensorflow-intel==2.13.0->tensorflow) (3.6.0)\n",
      "Requirement already satisfied: opt-einsum>=2.3.2 in c:\\users\\akash\\anaconda\\lib\\site-packages (from tensorflow-intel==2.13.0->tensorflow) (3.3.0)\n",
      "Requirement already satisfied: typing-extensions<4.6.0,>=3.6.6 in c:\\users\\akash\\anaconda\\lib\\site-packages (from tensorflow-intel==2.13.0->tensorflow) (4.1.1)\n",
      "Requirement already satisfied: tensorboard<2.14,>=2.13 in c:\\users\\akash\\anaconda\\lib\\site-packages (from tensorflow-intel==2.13.0->tensorflow) (2.13.0)\n",
      "Requirement already satisfied: setuptools in c:\\users\\akash\\anaconda\\lib\\site-packages (from tensorflow-intel==2.13.0->tensorflow) (61.2.0)\n",
      "Requirement already satisfied: grpcio<2.0,>=1.24.3 in c:\\users\\akash\\anaconda\\lib\\site-packages (from tensorflow-intel==2.13.0->tensorflow) (1.58.0)\n",
      "Requirement already satisfied: flatbuffers>=23.1.21 in c:\\users\\akash\\anaconda\\lib\\site-packages (from tensorflow-intel==2.13.0->tensorflow) (23.5.26)\n",
      "Requirement already satisfied: wrapt>=1.11.0 in c:\\users\\akash\\anaconda\\lib\\site-packages (from tensorflow-intel==2.13.0->tensorflow) (1.12.1)\n",
      "Requirement already satisfied: numpy<=1.24.3,>=1.22 in c:\\users\\akash\\anaconda\\lib\\site-packages (from tensorflow-intel==2.13.0->tensorflow) (1.24.3)\n",
      "Requirement already satisfied: gast<=0.4.0,>=0.2.1 in c:\\users\\akash\\anaconda\\lib\\site-packages (from tensorflow-intel==2.13.0->tensorflow) (0.4.0)\n",
      "Requirement already satisfied: tensorflow-estimator<2.14,>=2.13.0 in c:\\users\\akash\\anaconda\\lib\\site-packages (from tensorflow-intel==2.13.0->tensorflow) (2.13.0)\n",
      "Requirement already satisfied: astunparse>=1.6.0 in c:\\users\\akash\\anaconda\\lib\\site-packages (from tensorflow-intel==2.13.0->tensorflow) (1.6.3)\n",
      "Requirement already satisfied: google-pasta>=0.1.1 in c:\\users\\akash\\anaconda\\lib\\site-packages (from tensorflow-intel==2.13.0->tensorflow) (0.2.0)\n",
      "Requirement already satisfied: termcolor>=1.1.0 in c:\\users\\akash\\anaconda\\lib\\site-packages (from tensorflow-intel==2.13.0->tensorflow) (2.3.0)\n",
      "Requirement already satisfied: packaging in c:\\users\\akash\\anaconda\\lib\\site-packages (from tensorflow-intel==2.13.0->tensorflow) (21.3)\n",
      "Requirement already satisfied: six>=1.12.0 in c:\\users\\akash\\anaconda\\lib\\site-packages (from tensorflow-intel==2.13.0->tensorflow) (1.16.0)\n",
      "Requirement already satisfied: tensorflow-io-gcs-filesystem>=0.23.1 in c:\\users\\akash\\anaconda\\lib\\site-packages (from tensorflow-intel==2.13.0->tensorflow) (0.31.0)\n",
      "Requirement already satisfied: keras<2.14,>=2.13.1 in c:\\users\\akash\\anaconda\\lib\\site-packages (from tensorflow-intel==2.13.0->tensorflow) (2.13.1)\n",
      "Requirement already satisfied: absl-py>=1.0.0 in c:\\users\\akash\\anaconda\\lib\\site-packages (from tensorflow-intel==2.13.0->tensorflow) (2.0.0)\n",
      "Requirement already satisfied: protobuf!=4.21.0,!=4.21.1,!=4.21.2,!=4.21.3,!=4.21.4,!=4.21.5,<5.0.0dev,>=3.20.3 in c:\\users\\akash\\anaconda\\lib\\site-packages (from tensorflow-intel==2.13.0->tensorflow) (4.24.3)\n",
      "Requirement already satisfied: wheel<1.0,>=0.23.0 in c:\\users\\akash\\anaconda\\lib\\site-packages (from astunparse>=1.6.0->tensorflow-intel==2.13.0->tensorflow) (0.37.1)\n",
      "Requirement already satisfied: requests<3,>=2.21.0 in c:\\users\\akash\\anaconda\\lib\\site-packages (from tensorboard<2.14,>=2.13->tensorflow-intel==2.13.0->tensorflow) (2.27.1)\n",
      "Requirement already satisfied: google-auth-oauthlib<1.1,>=0.5 in c:\\users\\akash\\anaconda\\lib\\site-packages (from tensorboard<2.14,>=2.13->tensorflow-intel==2.13.0->tensorflow) (1.0.0)\n",
      "Requirement already satisfied: werkzeug>=1.0.1 in c:\\users\\akash\\anaconda\\lib\\site-packages (from tensorboard<2.14,>=2.13->tensorflow-intel==2.13.0->tensorflow) (2.0.3)\n",
      "Requirement already satisfied: tensorboard-data-server<0.8.0,>=0.7.0 in c:\\users\\akash\\anaconda\\lib\\site-packages (from tensorboard<2.14,>=2.13->tensorflow-intel==2.13.0->tensorflow) (0.7.1)\n",
      "Requirement already satisfied: markdown>=2.6.8 in c:\\users\\akash\\anaconda\\lib\\site-packages (from tensorboard<2.14,>=2.13->tensorflow-intel==2.13.0->tensorflow) (3.3.4)\n",
      "Requirement already satisfied: google-auth<3,>=1.6.3 in c:\\users\\akash\\anaconda\\lib\\site-packages (from tensorboard<2.14,>=2.13->tensorflow-intel==2.13.0->tensorflow) (2.23.0)\n",
      "Requirement already satisfied: cachetools<6.0,>=2.0.0 in c:\\users\\akash\\anaconda\\lib\\site-packages (from google-auth<3,>=1.6.3->tensorboard<2.14,>=2.13->tensorflow-intel==2.13.0->tensorflow) (4.2.2)\n",
      "Requirement already satisfied: pyasn1-modules>=0.2.1 in c:\\users\\akash\\anaconda\\lib\\site-packages (from google-auth<3,>=1.6.3->tensorboard<2.14,>=2.13->tensorflow-intel==2.13.0->tensorflow) (0.2.8)\n",
      "Requirement already satisfied: urllib3<2.0 in c:\\users\\akash\\anaconda\\lib\\site-packages (from google-auth<3,>=1.6.3->tensorboard<2.14,>=2.13->tensorflow-intel==2.13.0->tensorflow) (1.26.9)\n",
      "Requirement already satisfied: rsa<5,>=3.1.4 in c:\\users\\akash\\anaconda\\lib\\site-packages (from google-auth<3,>=1.6.3->tensorboard<2.14,>=2.13->tensorflow-intel==2.13.0->tensorflow) (4.7.2)\n",
      "Requirement already satisfied: requests-oauthlib>=0.7.0 in c:\\users\\akash\\anaconda\\lib\\site-packages (from google-auth-oauthlib<1.1,>=0.5->tensorboard<2.14,>=2.13->tensorflow-intel==2.13.0->tensorflow) (1.3.1)\n",
      "Requirement already satisfied: pyasn1<0.5.0,>=0.4.6 in c:\\users\\akash\\anaconda\\lib\\site-packages (from pyasn1-modules>=0.2.1->google-auth<3,>=1.6.3->tensorboard<2.14,>=2.13->tensorflow-intel==2.13.0->tensorflow) (0.4.8)\n",
      "Requirement already satisfied: certifi>=2017.4.17 in c:\\users\\akash\\anaconda\\lib\\site-packages (from requests<3,>=2.21.0->tensorboard<2.14,>=2.13->tensorflow-intel==2.13.0->tensorflow) (2021.10.8)\n",
      "Requirement already satisfied: idna<4,>=2.5 in c:\\users\\akash\\anaconda\\lib\\site-packages (from requests<3,>=2.21.0->tensorboard<2.14,>=2.13->tensorflow-intel==2.13.0->tensorflow) (3.3)\n",
      "Requirement already satisfied: charset-normalizer~=2.0.0 in c:\\users\\akash\\anaconda\\lib\\site-packages (from requests<3,>=2.21.0->tensorboard<2.14,>=2.13->tensorflow-intel==2.13.0->tensorflow) (2.0.4)\n",
      "Requirement already satisfied: oauthlib>=3.0.0 in c:\\users\\akash\\anaconda\\lib\\site-packages (from requests-oauthlib>=0.7.0->google-auth-oauthlib<1.1,>=0.5->tensorboard<2.14,>=2.13->tensorflow-intel==2.13.0->tensorflow) (3.2.2)\n",
      "Requirement already satisfied: pyparsing!=3.0.5,>=2.0.2 in c:\\users\\akash\\anaconda\\lib\\site-packages (from packaging->tensorflow-intel==2.13.0->tensorflow) (3.0.4)\n"
     ]
    }
   ],
   "source": [
    "!pip install tensorflow\n"
   ]
  },
  {
   "cell_type": "markdown",
   "id": "97fc205d",
   "metadata": {},
   "source": [
    "# Importing necessary libaries"
   ]
  },
  {
   "cell_type": "code",
   "execution_count": 103,
   "id": "758e14ee",
   "metadata": {},
   "outputs": [],
   "source": [
    "from tensorflow.keras.models import Sequential\n",
    "from tensorflow.keras.layers import *\n",
    "from tensorflow.keras.callbacks import ModelCheckpoint\n",
    "from tensorflow.keras.losses import MeanSquaredError\n",
    "from tensorflow.keras.metrics import RootMeanSquaredError\n",
    "from tensorflow.keras.optimizers import Adam"
   ]
  },
  {
   "cell_type": "markdown",
   "id": "0b7aef48",
   "metadata": {},
   "source": [
    "# Read the data"
   ]
  },
  {
   "cell_type": "code",
   "execution_count": 105,
   "id": "3d6c228d",
   "metadata": {},
   "outputs": [],
   "source": [
    "df=pd.read_csv(\"MICROSOFT BP DATA.csv\")"
   ]
  },
  {
   "cell_type": "code",
   "execution_count": 106,
   "id": "e7f0c87e",
   "metadata": {},
   "outputs": [
    {
     "data": {
      "text/html": [
       "<div>\n",
       "<style scoped>\n",
       "    .dataframe tbody tr th:only-of-type {\n",
       "        vertical-align: middle;\n",
       "    }\n",
       "\n",
       "    .dataframe tbody tr th {\n",
       "        vertical-align: top;\n",
       "    }\n",
       "\n",
       "    .dataframe thead th {\n",
       "        text-align: right;\n",
       "    }\n",
       "</style>\n",
       "<table border=\"1\" class=\"dataframe\">\n",
       "  <thead>\n",
       "    <tr style=\"text-align: right;\">\n",
       "      <th></th>\n",
       "      <th>Date</th>\n",
       "      <th>Open</th>\n",
       "      <th>High</th>\n",
       "      <th>Low</th>\n",
       "      <th>Close</th>\n",
       "      <th>Volume</th>\n",
       "      <th>Day of the week</th>\n",
       "      <th>Change</th>\n",
       "      <th>NASDAQ</th>\n",
       "    </tr>\n",
       "  </thead>\n",
       "  <tbody>\n",
       "    <tr>\n",
       "      <th>0</th>\n",
       "      <td>01-04-2014</td>\n",
       "      <td>41.150002</td>\n",
       "      <td>41.590000</td>\n",
       "      <td>41.070000</td>\n",
       "      <td>41.419998</td>\n",
       "      <td>32605000.0</td>\n",
       "      <td>3.0</td>\n",
       "      <td>-0.070000</td>\n",
       "      <td>3658.399902</td>\n",
       "    </tr>\n",
       "    <tr>\n",
       "      <th>1</th>\n",
       "      <td>02-04-2014</td>\n",
       "      <td>41.439999</td>\n",
       "      <td>41.660000</td>\n",
       "      <td>41.169998</td>\n",
       "      <td>41.349998</td>\n",
       "      <td>28666700.0</td>\n",
       "      <td>4.0</td>\n",
       "      <td>-0.340000</td>\n",
       "      <td>3665.989990</td>\n",
       "    </tr>\n",
       "    <tr>\n",
       "      <th>2</th>\n",
       "      <td>03-04-2014</td>\n",
       "      <td>41.290001</td>\n",
       "      <td>41.290001</td>\n",
       "      <td>40.709999</td>\n",
       "      <td>41.009998</td>\n",
       "      <td>30139600.0</td>\n",
       "      <td>5.0</td>\n",
       "      <td>-1.139999</td>\n",
       "      <td>3637.580078</td>\n",
       "    </tr>\n",
       "    <tr>\n",
       "      <th>3</th>\n",
       "      <td>04-04-2014</td>\n",
       "      <td>41.250000</td>\n",
       "      <td>41.389999</td>\n",
       "      <td>39.639999</td>\n",
       "      <td>39.869999</td>\n",
       "      <td>51409600.0</td>\n",
       "      <td>6.0</td>\n",
       "      <td>-0.070000</td>\n",
       "      <td>3539.379883</td>\n",
       "    </tr>\n",
       "    <tr>\n",
       "      <th>4</th>\n",
       "      <td>07-04-2014</td>\n",
       "      <td>39.959999</td>\n",
       "      <td>40.270000</td>\n",
       "      <td>39.740002</td>\n",
       "      <td>39.799999</td>\n",
       "      <td>37559600.0</td>\n",
       "      <td>2.0</td>\n",
       "      <td>0.020001</td>\n",
       "      <td>3507.750000</td>\n",
       "    </tr>\n",
       "  </tbody>\n",
       "</table>\n",
       "</div>"
      ],
      "text/plain": [
       "         Date       Open       High        Low      Close      Volume  \\\n",
       "0  01-04-2014  41.150002  41.590000  41.070000  41.419998  32605000.0   \n",
       "1  02-04-2014  41.439999  41.660000  41.169998  41.349998  28666700.0   \n",
       "2  03-04-2014  41.290001  41.290001  40.709999  41.009998  30139600.0   \n",
       "3  04-04-2014  41.250000  41.389999  39.639999  39.869999  51409600.0   \n",
       "4  07-04-2014  39.959999  40.270000  39.740002  39.799999  37559600.0   \n",
       "\n",
       "   Day of the week    Change       NASDAQ  \n",
       "0              3.0 -0.070000  3658.399902  \n",
       "1              4.0 -0.340000  3665.989990  \n",
       "2              5.0 -1.139999  3637.580078  \n",
       "3              6.0 -0.070000  3539.379883  \n",
       "4              2.0  0.020001  3507.750000  "
      ]
     },
     "execution_count": 106,
     "metadata": {},
     "output_type": "execute_result"
    }
   ],
   "source": [
    "df.head()"
   ]
  },
  {
   "cell_type": "code",
   "execution_count": 107,
   "id": "11d05b8f",
   "metadata": {},
   "outputs": [
    {
     "name": "stdout",
     "output_type": "stream",
     "text": [
      "<class 'pandas.core.frame.DataFrame'>\n",
      "RangeIndex: 2267 entries, 0 to 2266\n",
      "Data columns (total 9 columns):\n",
      " #   Column           Non-Null Count  Dtype  \n",
      "---  ------           --------------  -----  \n",
      " 0   Date             2205 non-null   object \n",
      " 1   Open             2205 non-null   float64\n",
      " 2   High             2205 non-null   float64\n",
      " 3   Low              2205 non-null   float64\n",
      " 4   Close            2205 non-null   float64\n",
      " 5   Volume           2205 non-null   float64\n",
      " 6   Day of the week  2205 non-null   float64\n",
      " 7   Change           2205 non-null   float64\n",
      " 8   NASDAQ           2205 non-null   float64\n",
      "dtypes: float64(8), object(1)\n",
      "memory usage: 159.5+ KB\n"
     ]
    }
   ],
   "source": [
    "df.info()"
   ]
  },
  {
   "cell_type": "markdown",
   "id": "8530d232",
   "metadata": {},
   "source": [
    "# Data Preprocessing"
   ]
  },
  {
   "cell_type": "code",
   "execution_count": 108,
   "id": "138d6ab7",
   "metadata": {},
   "outputs": [],
   "source": [
    "df[\"Date\"] = pd.to_datetime(df[\"Date\"])"
   ]
  },
  {
   "cell_type": "code",
   "execution_count": 109,
   "id": "4fa2e87c",
   "metadata": {},
   "outputs": [],
   "source": [
    "df.set_index('Date',inplace=True)"
   ]
  },
  {
   "cell_type": "code",
   "execution_count": 110,
   "id": "c1ff82f7",
   "metadata": {},
   "outputs": [
    {
     "data": {
      "text/html": [
       "<div>\n",
       "<style scoped>\n",
       "    .dataframe tbody tr th:only-of-type {\n",
       "        vertical-align: middle;\n",
       "    }\n",
       "\n",
       "    .dataframe tbody tr th {\n",
       "        vertical-align: top;\n",
       "    }\n",
       "\n",
       "    .dataframe thead th {\n",
       "        text-align: right;\n",
       "    }\n",
       "</style>\n",
       "<table border=\"1\" class=\"dataframe\">\n",
       "  <thead>\n",
       "    <tr style=\"text-align: right;\">\n",
       "      <th></th>\n",
       "      <th>Open</th>\n",
       "      <th>High</th>\n",
       "      <th>Low</th>\n",
       "      <th>Close</th>\n",
       "      <th>Volume</th>\n",
       "      <th>Day of the week</th>\n",
       "      <th>Change</th>\n",
       "      <th>NASDAQ</th>\n",
       "    </tr>\n",
       "    <tr>\n",
       "      <th>Date</th>\n",
       "      <th></th>\n",
       "      <th></th>\n",
       "      <th></th>\n",
       "      <th></th>\n",
       "      <th></th>\n",
       "      <th></th>\n",
       "      <th></th>\n",
       "      <th></th>\n",
       "    </tr>\n",
       "  </thead>\n",
       "  <tbody>\n",
       "    <tr>\n",
       "      <th>2014-01-04</th>\n",
       "      <td>41.150002</td>\n",
       "      <td>41.590000</td>\n",
       "      <td>41.070000</td>\n",
       "      <td>41.419998</td>\n",
       "      <td>32605000.0</td>\n",
       "      <td>3.0</td>\n",
       "      <td>-0.070000</td>\n",
       "      <td>3658.399902</td>\n",
       "    </tr>\n",
       "    <tr>\n",
       "      <th>2014-02-04</th>\n",
       "      <td>41.439999</td>\n",
       "      <td>41.660000</td>\n",
       "      <td>41.169998</td>\n",
       "      <td>41.349998</td>\n",
       "      <td>28666700.0</td>\n",
       "      <td>4.0</td>\n",
       "      <td>-0.340000</td>\n",
       "      <td>3665.989990</td>\n",
       "    </tr>\n",
       "    <tr>\n",
       "      <th>2014-03-04</th>\n",
       "      <td>41.290001</td>\n",
       "      <td>41.290001</td>\n",
       "      <td>40.709999</td>\n",
       "      <td>41.009998</td>\n",
       "      <td>30139600.0</td>\n",
       "      <td>5.0</td>\n",
       "      <td>-1.139999</td>\n",
       "      <td>3637.580078</td>\n",
       "    </tr>\n",
       "    <tr>\n",
       "      <th>2014-04-04</th>\n",
       "      <td>41.250000</td>\n",
       "      <td>41.389999</td>\n",
       "      <td>39.639999</td>\n",
       "      <td>39.869999</td>\n",
       "      <td>51409600.0</td>\n",
       "      <td>6.0</td>\n",
       "      <td>-0.070000</td>\n",
       "      <td>3539.379883</td>\n",
       "    </tr>\n",
       "    <tr>\n",
       "      <th>2014-07-04</th>\n",
       "      <td>39.959999</td>\n",
       "      <td>40.270000</td>\n",
       "      <td>39.740002</td>\n",
       "      <td>39.799999</td>\n",
       "      <td>37559600.0</td>\n",
       "      <td>2.0</td>\n",
       "      <td>0.020001</td>\n",
       "      <td>3507.750000</td>\n",
       "    </tr>\n",
       "  </tbody>\n",
       "</table>\n",
       "</div>"
      ],
      "text/plain": [
       "                 Open       High        Low      Close      Volume  \\\n",
       "Date                                                                 \n",
       "2014-01-04  41.150002  41.590000  41.070000  41.419998  32605000.0   \n",
       "2014-02-04  41.439999  41.660000  41.169998  41.349998  28666700.0   \n",
       "2014-03-04  41.290001  41.290001  40.709999  41.009998  30139600.0   \n",
       "2014-04-04  41.250000  41.389999  39.639999  39.869999  51409600.0   \n",
       "2014-07-04  39.959999  40.270000  39.740002  39.799999  37559600.0   \n",
       "\n",
       "            Day of the week    Change       NASDAQ  \n",
       "Date                                                \n",
       "2014-01-04              3.0 -0.070000  3658.399902  \n",
       "2014-02-04              4.0 -0.340000  3665.989990  \n",
       "2014-03-04              5.0 -1.139999  3637.580078  \n",
       "2014-04-04              6.0 -0.070000  3539.379883  \n",
       "2014-07-04              2.0  0.020001  3507.750000  "
      ]
     },
     "execution_count": 110,
     "metadata": {},
     "output_type": "execute_result"
    }
   ],
   "source": [
    "df.head()"
   ]
  },
  {
   "cell_type": "markdown",
   "id": "acf586ff",
   "metadata": {},
   "source": [
    "# Missing entries\n"
   ]
  },
  {
   "cell_type": "code",
   "execution_count": 111,
   "id": "979c7844",
   "metadata": {},
   "outputs": [
    {
     "data": {
      "text/plain": [
       "Timestamp('2014-01-04 00:00:00')"
      ]
     },
     "execution_count": 111,
     "metadata": {},
     "output_type": "execute_result"
    }
   ],
   "source": [
    "min(df.index)"
   ]
  },
  {
   "cell_type": "code",
   "execution_count": 112,
   "id": "02038789",
   "metadata": {},
   "outputs": [
    {
     "data": {
      "text/plain": [
       "Timestamp('2022-12-30 00:00:00')"
      ]
     },
     "execution_count": 112,
     "metadata": {},
     "output_type": "execute_result"
    }
   ],
   "source": [
    "max(df.index)"
   ]
  },
  {
   "cell_type": "code",
   "execution_count": 113,
   "id": "c4a0a17d",
   "metadata": {},
   "outputs": [
    {
     "data": {
      "text/plain": [
       "DatetimeIndex(['2014-01-04', '2014-01-05', '2014-01-06', '2014-01-07',\n",
       "               '2014-01-08', '2014-01-09', '2014-01-10', '2014-01-11',\n",
       "               '2014-01-12', '2014-01-13',\n",
       "               ...\n",
       "               '2022-12-21', '2022-12-22', '2022-12-23', '2022-12-24',\n",
       "               '2022-12-25', '2022-12-26', '2022-12-27', '2022-12-28',\n",
       "               '2022-12-29', '2022-12-30'],\n",
       "              dtype='datetime64[ns]', length=3283, freq='D')"
      ]
     },
     "execution_count": 113,
     "metadata": {},
     "output_type": "execute_result"
    }
   ],
   "source": [
    "all_datetimes = pd.date_range(min(df.index), max(df.index), freq=\"D\")\n",
    "all_datetimes"
   ]
  },
  {
   "cell_type": "code",
   "execution_count": 114,
   "id": "61c6e110",
   "metadata": {},
   "outputs": [
    {
     "data": {
      "text/plain": [
       "(3283,)"
      ]
     },
     "execution_count": 114,
     "metadata": {},
     "output_type": "execute_result"
    }
   ],
   "source": [
    "all_datetimes.shape"
   ]
  },
  {
   "cell_type": "markdown",
   "id": "1cbee3a7",
   "metadata": {},
   "source": [
    "# Supplying missing values"
   ]
  },
  {
   "cell_type": "markdown",
   "id": "5cfe914c",
   "metadata": {},
   "source": [
    "## Insert missing datetimes"
   ]
  },
  {
   "cell_type": "code",
   "execution_count": 115,
   "id": "ca042053",
   "metadata": {},
   "outputs": [
    {
     "name": "stdout",
     "output_type": "stream",
     "text": [
      "<class 'pandas.core.frame.DataFrame'>\n",
      "DatetimeIndex: 3283 entries, 2014-01-04 to 2022-12-30\n",
      "Freq: D\n",
      "Empty DataFrame"
     ]
    }
   ],
   "source": [
    "all_datetimes_df = pd.DataFrame(index=all_datetimes)\n",
    "all_datetimes_df.info()"
   ]
  },
  {
   "cell_type": "code",
   "execution_count": 116,
   "id": "7837bc40",
   "metadata": {},
   "outputs": [
    {
     "name": "stdout",
     "output_type": "stream",
     "text": [
      "<class 'pandas.core.frame.DataFrame'>\n",
      "DatetimeIndex: 3283 entries, 2014-01-04 to 2022-12-30\n",
      "Data columns (total 8 columns):\n",
      " #   Column           Non-Null Count  Dtype  \n",
      "---  ------           --------------  -----  \n",
      " 0   Open             2205 non-null   float64\n",
      " 1   High             2205 non-null   float64\n",
      " 2   Low              2205 non-null   float64\n",
      " 3   Close            2205 non-null   float64\n",
      " 4   Volume           2205 non-null   float64\n",
      " 5   Day of the week  2205 non-null   float64\n",
      " 6   Change           2205 non-null   float64\n",
      " 7   NASDAQ           2205 non-null   float64\n",
      "dtypes: float64(8)\n",
      "memory usage: 230.8 KB\n"
     ]
    }
   ],
   "source": [
    "df = pd.merge(all_datetimes_df, df, how=\"left\", left_index=True, right_index=True)\n",
    "df.info()"
   ]
  },
  {
   "cell_type": "code",
   "execution_count": 117,
   "id": "82f557b3",
   "metadata": {},
   "outputs": [
    {
     "data": {
      "image/png": "[encoded data removed]",
      "text/plain": [
       "<Figure size 1440x864 with 1 Axes>"
      ]
     },
     "metadata": {},
     "output_type": "display_data"
    }
   ],
   "source": [
    "plot = df['Close'].plot(figsize=(20, 12))"
   ]
  },
  {
   "cell_type": "code",
   "execution_count": 118,
   "id": "d10482fd",
   "metadata": {},
   "outputs": [
    {
     "data": {
      "text/html": [
       "<div>\n",
       "<style scoped>\n",
       "    .dataframe tbody tr th:only-of-type {\n",
       "        vertical-align: middle;\n",
       "    }\n",
       "\n",
       "    .dataframe tbody tr th {\n",
       "        vertical-align: top;\n",
       "    }\n",
       "\n",
       "    .dataframe thead th {\n",
       "        text-align: right;\n",
       "    }\n",
       "</style>\n",
       "<table border=\"1\" class=\"dataframe\">\n",
       "  <thead>\n",
       "    <tr style=\"text-align: right;\">\n",
       "      <th></th>\n",
       "      <th>Open</th>\n",
       "      <th>High</th>\n",
       "      <th>Low</th>\n",
       "      <th>Close</th>\n",
       "      <th>Volume</th>\n",
       "      <th>Day of the week</th>\n",
       "      <th>Change</th>\n",
       "      <th>NASDAQ</th>\n",
       "    </tr>\n",
       "  </thead>\n",
       "  <tbody>\n",
       "    <tr>\n",
       "      <th>2014-01-04</th>\n",
       "      <td>41.150002</td>\n",
       "      <td>41.590000</td>\n",
       "      <td>41.070000</td>\n",
       "      <td>41.419998</td>\n",
       "      <td>32605000.0</td>\n",
       "      <td>3.0</td>\n",
       "      <td>-0.070000</td>\n",
       "      <td>3658.399902</td>\n",
       "    </tr>\n",
       "    <tr>\n",
       "      <th>2014-01-05</th>\n",
       "      <td>40.240002</td>\n",
       "      <td>40.360001</td>\n",
       "      <td>39.950001</td>\n",
       "      <td>40.000000</td>\n",
       "      <td>28787400.0</td>\n",
       "      <td>5.0</td>\n",
       "      <td>-0.310001</td>\n",
       "      <td>3594.360107</td>\n",
       "    </tr>\n",
       "    <tr>\n",
       "      <th>2014-01-06</th>\n",
       "      <td>40.240002</td>\n",
       "      <td>40.360001</td>\n",
       "      <td>39.950001</td>\n",
       "      <td>40.000000</td>\n",
       "      <td>28787400.0</td>\n",
       "      <td>NaN</td>\n",
       "      <td>-0.310001</td>\n",
       "      <td>3594.360107</td>\n",
       "    </tr>\n",
       "    <tr>\n",
       "      <th>2014-01-07</th>\n",
       "      <td>41.860001</td>\n",
       "      <td>42.150002</td>\n",
       "      <td>41.689999</td>\n",
       "      <td>41.869999</td>\n",
       "      <td>26917000.0</td>\n",
       "      <td>3.0</td>\n",
       "      <td>0.030003</td>\n",
       "      <td>3894.330078</td>\n",
       "    </tr>\n",
       "    <tr>\n",
       "      <th>2014-01-08</th>\n",
       "      <td>43.209999</td>\n",
       "      <td>43.250000</td>\n",
       "      <td>42.599998</td>\n",
       "      <td>42.860001</td>\n",
       "      <td>31170300.0</td>\n",
       "      <td>6.0</td>\n",
       "      <td>0.509998</td>\n",
       "      <td>3879.669922</td>\n",
       "    </tr>\n",
       "    <tr>\n",
       "      <th>2014-01-09</th>\n",
       "      <td>43.209999</td>\n",
       "      <td>43.250000</td>\n",
       "      <td>42.599998</td>\n",
       "      <td>42.860001</td>\n",
       "      <td>31170300.0</td>\n",
       "      <td>NaN</td>\n",
       "      <td>0.509998</td>\n",
       "      <td>3879.669922</td>\n",
       "    </tr>\n",
       "    <tr>\n",
       "      <th>2014-01-10</th>\n",
       "      <td>46.270000</td>\n",
       "      <td>46.529999</td>\n",
       "      <td>45.849998</td>\n",
       "      <td>45.900002</td>\n",
       "      <td>38088400.0</td>\n",
       "      <td>4.0</td>\n",
       "      <td>-0.140004</td>\n",
       "      <td>3984.739990</td>\n",
       "    </tr>\n",
       "    <tr>\n",
       "      <th>2014-01-11</th>\n",
       "      <td>46.270000</td>\n",
       "      <td>46.529999</td>\n",
       "      <td>45.849998</td>\n",
       "      <td>45.900002</td>\n",
       "      <td>38088400.0</td>\n",
       "      <td>NaN</td>\n",
       "      <td>-0.140004</td>\n",
       "      <td>3984.739990</td>\n",
       "    </tr>\n",
       "    <tr>\n",
       "      <th>2014-01-12</th>\n",
       "      <td>47.880001</td>\n",
       "      <td>48.779999</td>\n",
       "      <td>47.709999</td>\n",
       "      <td>48.619999</td>\n",
       "      <td>31191600.0</td>\n",
       "      <td>2.0</td>\n",
       "      <td>-0.160000</td>\n",
       "      <td>4287.810059</td>\n",
       "    </tr>\n",
       "    <tr>\n",
       "      <th>2014-01-13</th>\n",
       "      <td>47.880001</td>\n",
       "      <td>48.779999</td>\n",
       "      <td>47.709999</td>\n",
       "      <td>48.619999</td>\n",
       "      <td>31191600.0</td>\n",
       "      <td>NaN</td>\n",
       "      <td>-0.160000</td>\n",
       "      <td>4287.810059</td>\n",
       "    </tr>\n",
       "    <tr>\n",
       "      <th>2014-01-14</th>\n",
       "      <td>47.880001</td>\n",
       "      <td>48.779999</td>\n",
       "      <td>47.709999</td>\n",
       "      <td>48.619999</td>\n",
       "      <td>31191600.0</td>\n",
       "      <td>NaN</td>\n",
       "      <td>-0.160000</td>\n",
       "      <td>4287.810059</td>\n",
       "    </tr>\n",
       "    <tr>\n",
       "      <th>2014-01-15</th>\n",
       "      <td>47.880001</td>\n",
       "      <td>48.779999</td>\n",
       "      <td>47.709999</td>\n",
       "      <td>48.619999</td>\n",
       "      <td>31191600.0</td>\n",
       "      <td>NaN</td>\n",
       "      <td>-0.160000</td>\n",
       "      <td>4287.810059</td>\n",
       "    </tr>\n",
       "  </tbody>\n",
       "</table>\n",
       "</div>"
      ],
      "text/plain": [
       "                 Open       High        Low      Close      Volume  \\\n",
       "2014-01-04  41.150002  41.590000  41.070000  41.419998  32605000.0   \n",
       "2014-01-05  40.240002  40.360001  39.950001  40.000000  28787400.0   \n",
       "2014-01-06  40.240002  40.360001  39.950001  40.000000  28787400.0   \n",
       "2014-01-07  41.860001  42.150002  41.689999  41.869999  26917000.0   \n",
       "2014-01-08  43.209999  43.250000  42.599998  42.860001  31170300.0   \n",
       "2014-01-09  43.209999  43.250000  42.599998  42.860001  31170300.0   \n",
       "2014-01-10  46.270000  46.529999  45.849998  45.900002  38088400.0   \n",
       "2014-01-11  46.270000  46.529999  45.849998  45.900002  38088400.0   \n",
       "2014-01-12  47.880001  48.779999  47.709999  48.619999  31191600.0   \n",
       "2014-01-13  47.880001  48.779999  47.709999  48.619999  31191600.0   \n",
       "2014-01-14  47.880001  48.779999  47.709999  48.619999  31191600.0   \n",
       "2014-01-15  47.880001  48.779999  47.709999  48.619999  31191600.0   \n",
       "\n",
       "            Day of the week    Change       NASDAQ  \n",
       "2014-01-04              3.0 -0.070000  3658.399902  \n",
       "2014-01-05              5.0 -0.310001  3594.360107  \n",
       "2014-01-06              NaN -0.310001  3594.360107  \n",
       "2014-01-07              3.0  0.030003  3894.330078  \n",
       "2014-01-08              6.0  0.509998  3879.669922  \n",
       "2014-01-09              NaN  0.509998  3879.669922  \n",
       "2014-01-10              4.0 -0.140004  3984.739990  \n",
       "2014-01-11              NaN -0.140004  3984.739990  \n",
       "2014-01-12              2.0 -0.160000  4287.810059  \n",
       "2014-01-13              NaN -0.160000  4287.810059  \n",
       "2014-01-14              NaN -0.160000  4287.810059  \n",
       "2014-01-15              NaN -0.160000  4287.810059  "
      ]
     },
     "execution_count": 118,
     "metadata": {},
     "output_type": "execute_result"
    }
   ],
   "source": [
    "df[\"Close\"] = df[\"Close\"].ffill()\n",
    "df[\"NASDAQ\"]=df[\"NASDAQ\"].ffill()\n",
    "df[\"Open\"]=df[\"Open\"].ffill()\n",
    "df[\"High\"]=df[\"High\"].ffill()\n",
    "df[\"Low\"]=df[\"Low\"].ffill()\n",
    "df[\"Volume\"]=df[\"Volume\"].ffill()\n",
    "df[\"Change\"]=df[\"Change\"].ffill()\n",
    "df.head(12)"
   ]
  },
  {
   "cell_type": "code",
   "execution_count": 119,
   "id": "dd26636a",
   "metadata": {},
   "outputs": [
    {
     "data": {
      "image/png": "[encoded data removed]",
      "text/plain": [
       "<Figure size 1440x864 with 1 Axes>"
      ]
     },
     "metadata": {},
     "output_type": "display_data"
    }
   ],
   "source": [
    "plot = df[ \"Close\"].plot(figsize=(20, 12))"
   ]
  },
  {
   "cell_type": "code",
   "execution_count": 120,
   "id": "62e25210",
   "metadata": {},
   "outputs": [
    {
     "data": {
      "image/png": "[encoded data removed]",
      "text/plain": [
       "<Figure size 1440x864 with 1 Axes>"
      ]
     },
     "metadata": {},
     "output_type": "display_data"
    }
   ],
   "source": [
    "#plot close price\n",
    "plt.figure(figsize=(20,12))\n",
    "plt.grid(True)\n",
    "plt.xlabel('Date')\n",
    "plt.ylabel('Close Prices')\n",
    "plt.plot(df['Close'])\n",
    "plt.title('APPLE closing price')\n",
    "plt.show()"
   ]
  },
  {
   "cell_type": "code",
   "execution_count": 121,
   "id": "3668dd84",
   "metadata": {},
   "outputs": [
    {
     "data": {
      "text/plain": [
       "2014-01-04     41.419998\n",
       "2014-01-05     40.000000\n",
       "2014-01-06     40.000000\n",
       "2014-01-07     41.869999\n",
       "2014-01-08     42.860001\n",
       "                 ...    \n",
       "2022-12-26    238.729996\n",
       "2022-12-27    236.960007\n",
       "2022-12-28    234.529999\n",
       "2022-12-29    241.009995\n",
       "2022-12-30    239.820007\n",
       "Name: Close, Length: 3283, dtype: float64"
      ]
     },
     "execution_count": 121,
     "metadata": {},
     "output_type": "execute_result"
    }
   ],
   "source": [
    "df=df[\"Close\"]\n",
    "df"
   ]
  },
  {
   "cell_type": "code",
   "execution_count": 122,
   "id": "0c09e77d",
   "metadata": {},
   "outputs": [
    {
     "data": {
      "text/plain": [
       "<AxesSubplot:>"
      ]
     },
     "execution_count": 122,
     "metadata": {},
     "output_type": "execute_result"
    },
    {
     "data": {
      "image/png": "[encoded data removed]",
      "text/plain": [
       "<Figure size 432x288 with 1 Axes>"
      ]
     },
     "metadata": {},
     "output_type": "display_data"
    }
   ],
   "source": [
    "df.plot()"
   ]
  },
  {
   "cell_type": "markdown",
   "id": "200ef441",
   "metadata": {},
   "source": [
    "# Build model"
   ]
  },
  {
   "cell_type": "code",
   "execution_count": 123,
   "id": "bd785b41",
   "metadata": {},
   "outputs": [],
   "source": [
    "# [[[1], [2], [3], [4], [5]]] [6]\n",
    "# [[[2], [3], [4], [5], [6]]] [7]\n",
    "# [[[3], [4], [5], [6], [7]]] [8]\n",
    "\n",
    "def df_to_X_y(df, window_size=5):\n",
    "  df_as_np = df.to_numpy()\n",
    "  X = []\n",
    "  y = []\n",
    "  for i in range(len(df_as_np)-window_size):\n",
    "    row = [[a] for a in df_as_np[i:i+window_size]]\n",
    "    X.append(row)\n",
    "    label = df_as_np[i+window_size]\n",
    "    y.append(label)\n",
    "  return np.array(X), np.array(y)"
   ]
  },
  {
   "cell_type": "code",
   "execution_count": 124,
   "id": "f0699158",
   "metadata": {},
   "outputs": [
    {
     "data": {
      "text/plain": [
       "((3278, 5, 1), (3278,))"
      ]
     },
     "execution_count": 124,
     "metadata": {},
     "output_type": "execute_result"
    }
   ],
   "source": [
    "WINDOW_SIZE = 5\n",
    "X1, y1 = df_to_X_y(df, WINDOW_SIZE)\n",
    "X1.shape, y1.shape"
   ]
  },
  {
   "cell_type": "markdown",
   "id": "82f4ad0e",
   "metadata": {},
   "source": [
    "# Train test split"
   ]
  },
  {
   "cell_type": "code",
   "execution_count": 125,
   "id": "9141c2e9",
   "metadata": {},
   "outputs": [
    {
     "data": {
      "text/plain": [
       "((2922, 5, 1), (2922,), (356, 5, 1), (356,))"
      ]
     },
     "execution_count": 125,
     "metadata": {},
     "output_type": "execute_result"
    }
   ],
   "source": [
    "X_train1, y_train1 = X1[:2922], y1[:2922]\n",
    "X_test1, y_test1 = X1[2922:], y1[2922:]\n",
    "X_train1.shape, y_train1.shape, X_test1.shape, y_test1.shape"
   ]
  },
  {
   "cell_type": "code",
   "execution_count": 126,
   "id": "c083f510",
   "metadata": {},
   "outputs": [
    {
     "name": "stdout",
     "output_type": "stream",
     "text": [
      "Model: \"sequential_3\"\n",
      "_________________________________________________________________\n",
      " Layer (type)                Output Shape              Param #   \n",
      "=================================================================\n",
      " lstm_3 (LSTM)               (None, 64)                16896     \n",
      "                                                                 \n",
      " dense_6 (Dense)             (None, 8)                 520       \n",
      "                                                                 \n",
      " dense_7 (Dense)             (None, 1)                 9         \n",
      "                                                                 \n",
      "=================================================================\n",
      "Total params: 17425 (68.07 KB)\n",
      "Trainable params: 17425 (68.07 KB)\n",
      "Non-trainable params: 0 (0.00 Byte)\n",
      "_________________________________________________________________\n"
     ]
    }
   ],
   "source": [
    "model1 = Sequential()\n",
    "model1.add(InputLayer((5, 1)))\n",
    "model1.add(LSTM(64))\n",
    "model1.add(Dense(8, 'relu'))\n",
    "model1.add(Dense(1, 'linear'))\n",
    "\n",
    "model1.summary()"
   ]
  },
  {
   "cell_type": "code",
   "execution_count": 127,
   "id": "6ef3c295",
   "metadata": {},
   "outputs": [],
   "source": [
    "cp1 = ModelCheckpoint('model1/', save_best_only=True)\n",
    "model1.compile(loss=MeanSquaredError(), optimizer=Adam(learning_rate=0.0001), metrics=[RootMeanSquaredError()])"
   ]
  },
  {
   "cell_type": "code",
   "execution_count": 129,
   "id": "533d75ba",
   "metadata": {},
   "outputs": [
    {
     "name": "stdout",
     "output_type": "stream",
     "text": [
      "Epoch 1/100\n",
      "88/92 [===========================>..] - ETA: 0s - loss: 180.2502 - root_mean_squared_error: 13.4257"
     ]
    },
    {
     "name": "stderr",
     "output_type": "stream",
     "text": [
      "WARNING:tensorflow:Can save best model only with val_loss available, skipping.\n"
     ]
    },
    {
     "name": "stdout",
     "output_type": "stream",
     "text": [
      "92/92 [==============================] - 1s 6ms/step - loss: 178.1572 - root_mean_squared_error: 13.3476\n",
      "Epoch 2/100\n",
      "90/92 [============================>.] - ETA: 0s - loss: 170.1930 - root_mean_squared_error: 13.0458"
     ]
    },
    {
     "name": "stderr",
     "output_type": "stream",
     "text": [
      "WARNING:tensorflow:Can save best model only with val_loss available, skipping.\n"
     ]
    },
    {
     "name": "stdout",
     "output_type": "stream",
     "text": [
      "92/92 [==============================] - 1s 6ms/step - loss: 169.2421 - root_mean_squared_error: 13.0093\n",
      "Epoch 3/100\n",
      "87/92 [===========================>..] - ETA: 0s - loss: 165.1131 - root_mean_squared_error: 12.8496"
     ]
    },
    {
     "name": "stderr",
     "output_type": "stream",
     "text": [
      "WARNING:tensorflow:Can save best model only with val_loss available, skipping.\n"
     ]
    },
    {
     "name": "stdout",
     "output_type": "stream",
     "text": [
      "92/92 [==============================] - 1s 6ms/step - loss: 161.4355 - root_mean_squared_error: 12.7057\n",
      "Epoch 4/100\n",
      "91/92 [============================>.] - ETA: 0s - loss: 155.5246 - root_mean_squared_error: 12.4710"
     ]
    },
    {
     "name": "stderr",
     "output_type": "stream",
     "text": [
      "WARNING:tensorflow:Can save best model only with val_loss available, skipping.\n"
     ]
    },
    {
     "name": "stdout",
     "output_type": "stream",
     "text": [
      "92/92 [==============================] - 1s 6ms/step - loss: 155.0209 - root_mean_squared_error: 12.4507\n",
      "Epoch 5/100\n",
      "86/92 [===========================>..] - ETA: 0s - loss: 149.0929 - root_mean_squared_error: 12.2104"
     ]
    },
    {
     "name": "stderr",
     "output_type": "stream",
     "text": [
      "WARNING:tensorflow:Can save best model only with val_loss available, skipping.\n"
     ]
    },
    {
     "name": "stdout",
     "output_type": "stream",
     "text": [
      "92/92 [==============================] - 1s 9ms/step - loss: 147.8326 - root_mean_squared_error: 12.1586\n",
      "Epoch 6/100\n",
      "88/92 [===========================>..] - ETA: 0s - loss: 140.3630 - root_mean_squared_error: 11.8475"
     ]
    },
    {
     "name": "stderr",
     "output_type": "stream",
     "text": [
      "WARNING:tensorflow:Can save best model only with val_loss available, skipping.\n"
     ]
    },
    {
     "name": "stdout",
     "output_type": "stream",
     "text": [
      "92/92 [==============================] - 1s 7ms/step - loss: 141.8291 - root_mean_squared_error: 11.9092\n",
      "Epoch 7/100\n",
      "90/92 [============================>.] - ETA: 0s - loss: 136.6934 - root_mean_squared_error: 11.6916"
     ]
    },
    {
     "name": "stderr",
     "output_type": "stream",
     "text": [
      "WARNING:tensorflow:Can save best model only with val_loss available, skipping.\n"
     ]
    },
    {
     "name": "stdout",
     "output_type": "stream",
     "text": [
      "92/92 [==============================] - 1s 9ms/step - loss: 136.2486 - root_mean_squared_error: 11.6726\n",
      "Epoch 8/100\n",
      "89/92 [============================>.] - ETA: 0s - loss: 128.5294 - root_mean_squared_error: 11.3371"
     ]
    },
    {
     "name": "stderr",
     "output_type": "stream",
     "text": [
      "WARNING:tensorflow:Can save best model only with val_loss available, skipping.\n"
     ]
    },
    {
     "name": "stdout",
     "output_type": "stream",
     "text": [
      "92/92 [==============================] - 1s 9ms/step - loss: 131.1007 - root_mean_squared_error: 11.4499\n",
      "Epoch 9/100\n",
      "86/92 [===========================>..] - ETA: 0s - loss: 127.2437 - root_mean_squared_error: 11.2802"
     ]
    },
    {
     "name": "stderr",
     "output_type": "stream",
     "text": [
      "WARNING:tensorflow:Can save best model only with val_loss available, skipping.\n"
     ]
    },
    {
     "name": "stdout",
     "output_type": "stream",
     "text": [
      "92/92 [==============================] - 1s 9ms/step - loss: 126.7939 - root_mean_squared_error: 11.2603\n",
      "Epoch 10/100\n",
      "87/92 [===========================>..] - ETA: 0s - loss: 120.1851 - root_mean_squared_error: 10.9629"
     ]
    },
    {
     "name": "stderr",
     "output_type": "stream",
     "text": [
      "WARNING:tensorflow:Can save best model only with val_loss available, skipping.\n"
     ]
    },
    {
     "name": "stdout",
     "output_type": "stream",
     "text": [
      "92/92 [==============================] - 1s 9ms/step - loss: 122.4004 - root_mean_squared_error: 11.0635\n",
      "Epoch 11/100\n",
      "91/92 [============================>.] - ETA: 0s - loss: 118.1919 - root_mean_squared_error: 10.8716"
     ]
    },
    {
     "name": "stderr",
     "output_type": "stream",
     "text": [
      "WARNING:tensorflow:Can save best model only with val_loss available, skipping.\n"
     ]
    },
    {
     "name": "stdout",
     "output_type": "stream",
     "text": [
      "92/92 [==============================] - 1s 9ms/step - loss: 118.1519 - root_mean_squared_error: 10.8698\n",
      "Epoch 12/100\n",
      "90/92 [============================>.] - ETA: 0s - loss: 116.0761 - root_mean_squared_error: 10.7739"
     ]
    },
    {
     "name": "stderr",
     "output_type": "stream",
     "text": [
      "WARNING:tensorflow:Can save best model only with val_loss available, skipping.\n"
     ]
    },
    {
     "name": "stdout",
     "output_type": "stream",
     "text": [
      "92/92 [==============================] - 1s 9ms/step - loss: 114.8240 - root_mean_squared_error: 10.7156\n",
      "Epoch 13/100\n",
      "89/92 [============================>.] - ETA: 0s - loss: 111.2147 - root_mean_squared_error: 10.5458"
     ]
    },
    {
     "name": "stderr",
     "output_type": "stream",
     "text": [
      "WARNING:tensorflow:Can save best model only with val_loss available, skipping.\n"
     ]
    },
    {
     "name": "stdout",
     "output_type": "stream",
     "text": [
      "92/92 [==============================] - 1s 8ms/step - loss: 110.7669 - root_mean_squared_error: 10.5246\n",
      "Epoch 14/100\n",
      "88/92 [===========================>..] - ETA: 0s - loss: 108.9081 - root_mean_squared_error: 10.4359"
     ]
    },
    {
     "name": "stderr",
     "output_type": "stream",
     "text": [
      "WARNING:tensorflow:Can save best model only with val_loss available, skipping.\n"
     ]
    },
    {
     "name": "stdout",
     "output_type": "stream",
     "text": [
      "92/92 [==============================] - 1s 8ms/step - loss: 107.8276 - root_mean_squared_error: 10.3840\n",
      "Epoch 15/100\n",
      "89/92 [============================>.] - ETA: 0s - loss: 106.3265 - root_mean_squared_error: 10.3115"
     ]
    },
    {
     "name": "stderr",
     "output_type": "stream",
     "text": [
      "WARNING:tensorflow:Can save best model only with val_loss available, skipping.\n"
     ]
    },
    {
     "name": "stdout",
     "output_type": "stream",
     "text": [
      "92/92 [==============================] - 1s 8ms/step - loss: 106.1460 - root_mean_squared_error: 10.3027\n",
      "Epoch 16/100\n",
      "91/92 [============================>.] - ETA: 0s - loss: 103.2122 - root_mean_squared_error: 10.1593"
     ]
    },
    {
     "name": "stderr",
     "output_type": "stream",
     "text": [
      "WARNING:tensorflow:Can save best model only with val_loss available, skipping.\n"
     ]
    },
    {
     "name": "stdout",
     "output_type": "stream",
     "text": [
      "92/92 [==============================] - 1s 8ms/step - loss: 102.9390 - root_mean_squared_error: 10.1459\n",
      "Epoch 17/100\n",
      "87/92 [===========================>..] - ETA: 0s - loss: 101.6976 - root_mean_squared_error: 10.0845"
     ]
    },
    {
     "name": "stderr",
     "output_type": "stream",
     "text": [
      "WARNING:tensorflow:Can save best model only with val_loss available, skipping.\n"
     ]
    },
    {
     "name": "stdout",
     "output_type": "stream",
     "text": [
      "92/92 [==============================] - 1s 8ms/step - loss: 100.8108 - root_mean_squared_error: 10.0405\n",
      "Epoch 18/100\n",
      "89/92 [============================>.] - ETA: 0s - loss: 100.6426 - root_mean_squared_error: 10.0321"
     ]
    },
    {
     "name": "stderr",
     "output_type": "stream",
     "text": [
      "WARNING:tensorflow:Can save best model only with val_loss available, skipping.\n"
     ]
    },
    {
     "name": "stdout",
     "output_type": "stream",
     "text": [
      "92/92 [==============================] - 1s 8ms/step - loss: 98.4710 - root_mean_squared_error: 9.9233\n",
      "Epoch 19/100\n",
      "88/92 [===========================>..] - ETA: 0s - loss: 96.9904 - root_mean_squared_error: 9.8484"
     ]
    },
    {
     "name": "stderr",
     "output_type": "stream",
     "text": [
      "WARNING:tensorflow:Can save best model only with val_loss available, skipping.\n"
     ]
    },
    {
     "name": "stdout",
     "output_type": "stream",
     "text": [
      "92/92 [==============================] - 1s 9ms/step - loss: 96.4316 - root_mean_squared_error: 9.8200\n",
      "Epoch 20/100\n",
      "91/92 [============================>.] - ETA: 0s - loss: 94.0493 - root_mean_squared_error: 9.6979"
     ]
    },
    {
     "name": "stderr",
     "output_type": "stream",
     "text": [
      "WARNING:tensorflow:Can save best model only with val_loss available, skipping.\n"
     ]
    },
    {
     "name": "stdout",
     "output_type": "stream",
     "text": [
      "92/92 [==============================] - 1s 9ms/step - loss: 94.7422 - root_mean_squared_error: 9.7336\n",
      "Epoch 21/100\n",
      "87/92 [===========================>..] - ETA: 0s - loss: 95.9753 - root_mean_squared_error: 9.7967  "
     ]
    },
    {
     "name": "stderr",
     "output_type": "stream",
     "text": [
      "WARNING:tensorflow:Can save best model only with val_loss available, skipping.\n"
     ]
    },
    {
     "name": "stdout",
     "output_type": "stream",
     "text": [
      "92/92 [==============================] - 1s 9ms/step - loss: 94.7396 - root_mean_squared_error: 9.7334\n",
      "Epoch 22/100\n",
      "88/92 [===========================>..] - ETA: 0s - loss: 93.2061 - root_mean_squared_error: 9.6543"
     ]
    },
    {
     "name": "stderr",
     "output_type": "stream",
     "text": [
      "WARNING:tensorflow:Can save best model only with val_loss available, skipping.\n"
     ]
    },
    {
     "name": "stdout",
     "output_type": "stream",
     "text": [
      "92/92 [==============================] - 1s 8ms/step - loss: 91.9813 - root_mean_squared_error: 9.5907\n",
      "Epoch 23/100\n",
      "86/92 [===========================>..] - ETA: 0s - loss: 89.2126 - root_mean_squared_error: 9.4452"
     ]
    },
    {
     "name": "stderr",
     "output_type": "stream",
     "text": [
      "WARNING:tensorflow:Can save best model only with val_loss available, skipping.\n"
     ]
    },
    {
     "name": "stdout",
     "output_type": "stream",
     "text": [
      "92/92 [==============================] - 1s 8ms/step - loss: 90.5317 - root_mean_squared_error: 9.5148\n",
      "Epoch 24/100\n",
      "90/92 [============================>.] - ETA: 0s - loss: 89.6704 - root_mean_squared_error: 9.4694"
     ]
    },
    {
     "name": "stderr",
     "output_type": "stream",
     "text": [
      "WARNING:tensorflow:Can save best model only with val_loss available, skipping.\n"
     ]
    },
    {
     "name": "stdout",
     "output_type": "stream",
     "text": [
      "92/92 [==============================] - 1s 9ms/step - loss: 89.4227 - root_mean_squared_error: 9.4564\n",
      "Epoch 25/100\n",
      "89/92 [============================>.] - ETA: 0s - loss: 88.4516 - root_mean_squared_error: 9.4049"
     ]
    },
    {
     "name": "stderr",
     "output_type": "stream",
     "text": [
      "WARNING:tensorflow:Can save best model only with val_loss available, skipping.\n"
     ]
    },
    {
     "name": "stdout",
     "output_type": "stream",
     "text": [
      "92/92 [==============================] - 1s 10ms/step - loss: 89.0255 - root_mean_squared_error: 9.4353\n",
      "Epoch 26/100\n",
      "92/92 [==============================] - ETA: 0s - loss: 87.6340 - root_mean_squared_error: 9.3613"
     ]
    },
    {
     "name": "stderr",
     "output_type": "stream",
     "text": [
      "WARNING:tensorflow:Can save best model only with val_loss available, skipping.\n"
     ]
    },
    {
     "name": "stdout",
     "output_type": "stream",
     "text": [
      "92/92 [==============================] - 1s 8ms/step - loss: 87.6340 - root_mean_squared_error: 9.3613\n",
      "Epoch 27/100\n",
      "91/92 [============================>.] - ETA: 0s - loss: 86.4629 - root_mean_squared_error: 9.2985"
     ]
    },
    {
     "name": "stderr",
     "output_type": "stream",
     "text": [
      "WARNING:tensorflow:Can save best model only with val_loss available, skipping.\n"
     ]
    },
    {
     "name": "stdout",
     "output_type": "stream",
     "text": [
      "92/92 [==============================] - 1s 8ms/step - loss: 86.8650 - root_mean_squared_error: 9.3201\n",
      "Epoch 28/100\n",
      "90/92 [============================>.] - ETA: 0s - loss: 86.5112 - root_mean_squared_error: 9.3011"
     ]
    },
    {
     "name": "stderr",
     "output_type": "stream",
     "text": [
      "WARNING:tensorflow:Can save best model only with val_loss available, skipping.\n"
     ]
    },
    {
     "name": "stdout",
     "output_type": "stream",
     "text": [
      "92/92 [==============================] - 1s 9ms/step - loss: 87.0031 - root_mean_squared_error: 9.3275\n",
      "Epoch 29/100\n",
      "89/92 [============================>.] - ETA: 0s - loss: 85.7822 - root_mean_squared_error: 9.2619"
     ]
    },
    {
     "name": "stderr",
     "output_type": "stream",
     "text": [
      "WARNING:tensorflow:Can save best model only with val_loss available, skipping.\n"
     ]
    },
    {
     "name": "stdout",
     "output_type": "stream",
     "text": [
      "92/92 [==============================] - 1s 9ms/step - loss: 85.0828 - root_mean_squared_error: 9.2240\n",
      "Epoch 30/100\n",
      "90/92 [============================>.] - ETA: 0s - loss: 84.5966 - root_mean_squared_error: 9.1976"
     ]
    },
    {
     "name": "stderr",
     "output_type": "stream",
     "text": [
      "WARNING:tensorflow:Can save best model only with val_loss available, skipping.\n"
     ]
    },
    {
     "name": "stdout",
     "output_type": "stream",
     "text": [
      "92/92 [==============================] - 1s 9ms/step - loss: 84.9710 - root_mean_squared_error: 9.2180\n",
      "Epoch 31/100\n",
      "87/92 [===========================>..] - ETA: 0s - loss: 86.3774 - root_mean_squared_error: 9.2939"
     ]
    },
    {
     "name": "stderr",
     "output_type": "stream",
     "text": [
      "WARNING:tensorflow:Can save best model only with val_loss available, skipping.\n"
     ]
    },
    {
     "name": "stdout",
     "output_type": "stream",
     "text": [
      "92/92 [==============================] - 1s 8ms/step - loss: 85.1797 - root_mean_squared_error: 9.2293\n",
      "Epoch 32/100\n",
      "89/92 [============================>.] - ETA: 0s - loss: 83.4124 - root_mean_squared_error: 9.1330"
     ]
    },
    {
     "name": "stderr",
     "output_type": "stream",
     "text": [
      "WARNING:tensorflow:Can save best model only with val_loss available, skipping.\n"
     ]
    },
    {
     "name": "stdout",
     "output_type": "stream",
     "text": [
      "92/92 [==============================] - 1s 10ms/step - loss: 83.4306 - root_mean_squared_error: 9.1340\n",
      "Epoch 33/100\n",
      "89/92 [============================>.] - ETA: 0s - loss: 84.7827 - root_mean_squared_error: 9.2078"
     ]
    },
    {
     "name": "stderr",
     "output_type": "stream",
     "text": [
      "WARNING:tensorflow:Can save best model only with val_loss available, skipping.\n"
     ]
    },
    {
     "name": "stdout",
     "output_type": "stream",
     "text": [
      "92/92 [==============================] - 1s 8ms/step - loss: 83.4131 - root_mean_squared_error: 9.1331\n",
      "Epoch 34/100\n",
      "89/92 [============================>.] - ETA: 0s - loss: 79.9884 - root_mean_squared_error: 8.9436"
     ]
    },
    {
     "name": "stderr",
     "output_type": "stream",
     "text": [
      "WARNING:tensorflow:Can save best model only with val_loss available, skipping.\n"
     ]
    },
    {
     "name": "stdout",
     "output_type": "stream",
     "text": [
      "92/92 [==============================] - 1s 8ms/step - loss: 82.6644 - root_mean_squared_error: 9.0920\n",
      "Epoch 35/100\n",
      "89/92 [============================>.] - ETA: 0s - loss: 83.2436 - root_mean_squared_error: 9.1238"
     ]
    },
    {
     "name": "stderr",
     "output_type": "stream",
     "text": [
      "WARNING:tensorflow:Can save best model only with val_loss available, skipping.\n"
     ]
    },
    {
     "name": "stdout",
     "output_type": "stream",
     "text": [
      "92/92 [==============================] - 1s 9ms/step - loss: 82.9114 - root_mean_squared_error: 9.1056\n",
      "Epoch 36/100\n",
      "90/92 [============================>.] - ETA: 0s - loss: 84.4218 - root_mean_squared_error: 9.1881"
     ]
    },
    {
     "name": "stderr",
     "output_type": "stream",
     "text": [
      "WARNING:tensorflow:Can save best model only with val_loss available, skipping.\n"
     ]
    },
    {
     "name": "stdout",
     "output_type": "stream",
     "text": [
      "92/92 [==============================] - 1s 8ms/step - loss: 83.4686 - root_mean_squared_error: 9.1361\n",
      "Epoch 37/100\n",
      "91/92 [============================>.] - ETA: 0s - loss: 82.2399 - root_mean_squared_error: 9.0686"
     ]
    },
    {
     "name": "stderr",
     "output_type": "stream",
     "text": [
      "WARNING:tensorflow:Can save best model only with val_loss available, skipping.\n"
     ]
    },
    {
     "name": "stdout",
     "output_type": "stream",
     "text": [
      "92/92 [==============================] - 1s 9ms/step - loss: 82.3693 - root_mean_squared_error: 9.0758\n",
      "Epoch 38/100\n",
      "90/92 [============================>.] - ETA: 0s - loss: 79.0199 - root_mean_squared_error: 8.8893"
     ]
    },
    {
     "name": "stderr",
     "output_type": "stream",
     "text": [
      "WARNING:tensorflow:Can save best model only with val_loss available, skipping.\n"
     ]
    },
    {
     "name": "stdout",
     "output_type": "stream",
     "text": [
      "92/92 [==============================] - 1s 9ms/step - loss: 81.4021 - root_mean_squared_error: 9.0223\n",
      "Epoch 39/100\n",
      "90/92 [============================>.] - ETA: 0s - loss: 82.3037 - root_mean_squared_error: 9.0721"
     ]
    },
    {
     "name": "stderr",
     "output_type": "stream",
     "text": [
      "WARNING:tensorflow:Can save best model only with val_loss available, skipping.\n"
     ]
    },
    {
     "name": "stdout",
     "output_type": "stream",
     "text": [
      "92/92 [==============================] - 1s 9ms/step - loss: 81.4289 - root_mean_squared_error: 9.0238\n",
      "Epoch 40/100\n",
      "90/92 [============================>.] - ETA: 0s - loss: 81.6106 - root_mean_squared_error: 9.0339"
     ]
    },
    {
     "name": "stderr",
     "output_type": "stream",
     "text": [
      "WARNING:tensorflow:Can save best model only with val_loss available, skipping.\n"
     ]
    },
    {
     "name": "stdout",
     "output_type": "stream",
     "text": [
      "92/92 [==============================] - 1s 8ms/step - loss: 80.8632 - root_mean_squared_error: 8.9924\n",
      "Epoch 41/100\n",
      "89/92 [============================>.] - ETA: 0s - loss: 80.2745 - root_mean_squared_error: 8.9596"
     ]
    },
    {
     "name": "stderr",
     "output_type": "stream",
     "text": [
      "WARNING:tensorflow:Can save best model only with val_loss available, skipping.\n"
     ]
    },
    {
     "name": "stdout",
     "output_type": "stream",
     "text": [
      "92/92 [==============================] - 1s 8ms/step - loss: 81.3264 - root_mean_squared_error: 9.0181\n",
      "Epoch 42/100\n",
      "90/92 [============================>.] - ETA: 0s - loss: 81.7827 - root_mean_squared_error: 9.0434"
     ]
    },
    {
     "name": "stderr",
     "output_type": "stream",
     "text": [
      "WARNING:tensorflow:Can save best model only with val_loss available, skipping.\n"
     ]
    },
    {
     "name": "stdout",
     "output_type": "stream",
     "text": [
      "92/92 [==============================] - 1s 9ms/step - loss: 80.8222 - root_mean_squared_error: 8.9901\n",
      "Epoch 43/100\n",
      "91/92 [============================>.] - ETA: 0s - loss: 80.6451 - root_mean_squared_error: 8.9803"
     ]
    },
    {
     "name": "stderr",
     "output_type": "stream",
     "text": [
      "WARNING:tensorflow:Can save best model only with val_loss available, skipping.\n"
     ]
    },
    {
     "name": "stdout",
     "output_type": "stream",
     "text": [
      "92/92 [==============================] - 1s 9ms/step - loss: 80.4969 - root_mean_squared_error: 8.9720\n",
      "Epoch 44/100\n",
      "88/92 [===========================>..] - ETA: 0s - loss: 81.1489 - root_mean_squared_error: 9.0083"
     ]
    },
    {
     "name": "stderr",
     "output_type": "stream",
     "text": [
      "WARNING:tensorflow:Can save best model only with val_loss available, skipping.\n"
     ]
    },
    {
     "name": "stdout",
     "output_type": "stream",
     "text": [
      "92/92 [==============================] - 1s 9ms/step - loss: 79.9231 - root_mean_squared_error: 8.9400\n",
      "Epoch 45/100\n",
      "92/92 [==============================] - ETA: 0s - loss: 80.3498 - root_mean_squared_error: 8.9638"
     ]
    },
    {
     "name": "stderr",
     "output_type": "stream",
     "text": [
      "WARNING:tensorflow:Can save best model only with val_loss available, skipping.\n"
     ]
    },
    {
     "name": "stdout",
     "output_type": "stream",
     "text": [
      "92/92 [==============================] - 1s 9ms/step - loss: 80.3498 - root_mean_squared_error: 8.9638\n",
      "Epoch 46/100\n",
      "87/92 [===========================>..] - ETA: 0s - loss: 80.3825 - root_mean_squared_error: 8.9656"
     ]
    },
    {
     "name": "stderr",
     "output_type": "stream",
     "text": [
      "WARNING:tensorflow:Can save best model only with val_loss available, skipping.\n"
     ]
    },
    {
     "name": "stdout",
     "output_type": "stream",
     "text": [
      "92/92 [==============================] - 1s 8ms/step - loss: 79.5904 - root_mean_squared_error: 8.9213\n",
      "Epoch 47/100\n",
      "92/92 [==============================] - ETA: 0s - loss: 79.5727 - root_mean_squared_error: 8.9204"
     ]
    },
    {
     "name": "stderr",
     "output_type": "stream",
     "text": [
      "WARNING:tensorflow:Can save best model only with val_loss available, skipping.\n"
     ]
    },
    {
     "name": "stdout",
     "output_type": "stream",
     "text": [
      "92/92 [==============================] - 1s 8ms/step - loss: 79.5727 - root_mean_squared_error: 8.9204\n",
      "Epoch 48/100\n",
      "90/92 [============================>.] - ETA: 0s - loss: 80.5938 - root_mean_squared_error: 8.9774"
     ]
    },
    {
     "name": "stderr",
     "output_type": "stream",
     "text": [
      "WARNING:tensorflow:Can save best model only with val_loss available, skipping.\n"
     ]
    },
    {
     "name": "stdout",
     "output_type": "stream",
     "text": [
      "92/92 [==============================] - 1s 9ms/step - loss: 79.8466 - root_mean_squared_error: 8.9357\n",
      "Epoch 49/100\n",
      "89/92 [============================>.] - ETA: 0s - loss: 80.0490 - root_mean_squared_error: 8.9470"
     ]
    },
    {
     "name": "stderr",
     "output_type": "stream",
     "text": [
      "WARNING:tensorflow:Can save best model only with val_loss available, skipping.\n"
     ]
    },
    {
     "name": "stdout",
     "output_type": "stream",
     "text": [
      "92/92 [==============================] - 1s 9ms/step - loss: 79.8515 - root_mean_squared_error: 8.9360\n",
      "Epoch 50/100\n",
      "87/92 [===========================>..] - ETA: 0s - loss: 81.2725 - root_mean_squared_error: 9.0151"
     ]
    },
    {
     "name": "stderr",
     "output_type": "stream",
     "text": [
      "WARNING:tensorflow:Can save best model only with val_loss available, skipping.\n"
     ]
    },
    {
     "name": "stdout",
     "output_type": "stream",
     "text": [
      "92/92 [==============================] - 1s 9ms/step - loss: 79.7533 - root_mean_squared_error: 8.9305\n",
      "Epoch 51/100\n",
      "91/92 [============================>.] - ETA: 0s - loss: 79.6948 - root_mean_squared_error: 8.9272"
     ]
    },
    {
     "name": "stderr",
     "output_type": "stream",
     "text": [
      "WARNING:tensorflow:Can save best model only with val_loss available, skipping.\n"
     ]
    },
    {
     "name": "stdout",
     "output_type": "stream",
     "text": [
      "92/92 [==============================] - 1s 9ms/step - loss: 79.4306 - root_mean_squared_error: 8.9124\n",
      "Epoch 52/100\n",
      "90/92 [============================>.] - ETA: 0s - loss: 80.0853 - root_mean_squared_error: 8.9490"
     ]
    },
    {
     "name": "stderr",
     "output_type": "stream",
     "text": [
      "WARNING:tensorflow:Can save best model only with val_loss available, skipping.\n"
     ]
    },
    {
     "name": "stdout",
     "output_type": "stream",
     "text": [
      "92/92 [==============================] - 1s 9ms/step - loss: 79.3830 - root_mean_squared_error: 8.9097\n",
      "Epoch 53/100\n",
      "87/92 [===========================>..] - ETA: 0s - loss: 81.5348 - root_mean_squared_error: 9.0297"
     ]
    },
    {
     "name": "stderr",
     "output_type": "stream",
     "text": [
      "WARNING:tensorflow:Can save best model only with val_loss available, skipping.\n"
     ]
    },
    {
     "name": "stdout",
     "output_type": "stream",
     "text": [
      "92/92 [==============================] - 1s 8ms/step - loss: 79.6250 - root_mean_squared_error: 8.9233\n",
      "Epoch 54/100\n",
      "91/92 [============================>.] - ETA: 0s - loss: 79.6609 - root_mean_squared_error: 8.9253"
     ]
    },
    {
     "name": "stderr",
     "output_type": "stream",
     "text": [
      "WARNING:tensorflow:Can save best model only with val_loss available, skipping.\n"
     ]
    },
    {
     "name": "stdout",
     "output_type": "stream",
     "text": [
      "92/92 [==============================] - 1s 7ms/step - loss: 79.4046 - root_mean_squared_error: 8.9109\n",
      "Epoch 55/100\n",
      "90/92 [============================>.] - ETA: 0s - loss: 79.6115 - root_mean_squared_error: 8.9225"
     ]
    },
    {
     "name": "stderr",
     "output_type": "stream",
     "text": [
      "WARNING:tensorflow:Can save best model only with val_loss available, skipping.\n"
     ]
    },
    {
     "name": "stdout",
     "output_type": "stream",
     "text": [
      "92/92 [==============================] - 1s 9ms/step - loss: 78.9228 - root_mean_squared_error: 8.8839\n",
      "Epoch 56/100\n",
      "92/92 [==============================] - ETA: 0s - loss: 79.0605 - root_mean_squared_error: 8.8916"
     ]
    },
    {
     "name": "stderr",
     "output_type": "stream",
     "text": [
      "WARNING:tensorflow:Can save best model only with val_loss available, skipping.\n"
     ]
    },
    {
     "name": "stdout",
     "output_type": "stream",
     "text": [
      "92/92 [==============================] - 1s 9ms/step - loss: 79.0605 - root_mean_squared_error: 8.8916\n",
      "Epoch 57/100\n",
      "91/92 [============================>.] - ETA: 0s - loss: 78.4253 - root_mean_squared_error: 8.8558"
     ]
    },
    {
     "name": "stderr",
     "output_type": "stream",
     "text": [
      "WARNING:tensorflow:Can save best model only with val_loss available, skipping.\n"
     ]
    },
    {
     "name": "stdout",
     "output_type": "stream",
     "text": [
      "92/92 [==============================] - 1s 9ms/step - loss: 78.4124 - root_mean_squared_error: 8.8551\n",
      "Epoch 58/100\n",
      "84/92 [==========================>...] - ETA: 0s - loss: 78.5218 - root_mean_squared_error: 8.8613"
     ]
    },
    {
     "name": "stderr",
     "output_type": "stream",
     "text": [
      "WARNING:tensorflow:Can save best model only with val_loss available, skipping.\n"
     ]
    },
    {
     "name": "stdout",
     "output_type": "stream",
     "text": [
      "92/92 [==============================] - 1s 8ms/step - loss: 78.3249 - root_mean_squared_error: 8.8501\n",
      "Epoch 59/100\n",
      "87/92 [===========================>..] - ETA: 0s - loss: 75.8375 - root_mean_squared_error: 8.7085"
     ]
    },
    {
     "name": "stderr",
     "output_type": "stream",
     "text": [
      "WARNING:tensorflow:Can save best model only with val_loss available, skipping.\n"
     ]
    },
    {
     "name": "stdout",
     "output_type": "stream",
     "text": [
      "92/92 [==============================] - 1s 9ms/step - loss: 79.1318 - root_mean_squared_error: 8.8956\n",
      "Epoch 60/100\n",
      "92/92 [==============================] - ETA: 0s - loss: 78.6171 - root_mean_squared_error: 8.8666"
     ]
    },
    {
     "name": "stderr",
     "output_type": "stream",
     "text": [
      "WARNING:tensorflow:Can save best model only with val_loss available, skipping.\n"
     ]
    },
    {
     "name": "stdout",
     "output_type": "stream",
     "text": [
      "92/92 [==============================] - 1s 9ms/step - loss: 78.6171 - root_mean_squared_error: 8.8666\n",
      "Epoch 61/100\n",
      "91/92 [============================>.] - ETA: 0s - loss: 78.3708 - root_mean_squared_error: 8.8527"
     ]
    },
    {
     "name": "stderr",
     "output_type": "stream",
     "text": [
      "WARNING:tensorflow:Can save best model only with val_loss available, skipping.\n"
     ]
    },
    {
     "name": "stdout",
     "output_type": "stream",
     "text": [
      "92/92 [==============================] - 1s 9ms/step - loss: 78.6034 - root_mean_squared_error: 8.8659\n",
      "Epoch 62/100\n",
      "90/92 [============================>.] - ETA: 0s - loss: 78.6639 - root_mean_squared_error: 8.8693"
     ]
    },
    {
     "name": "stderr",
     "output_type": "stream",
     "text": [
      "WARNING:tensorflow:Can save best model only with val_loss available, skipping.\n"
     ]
    },
    {
     "name": "stdout",
     "output_type": "stream",
     "text": [
      "92/92 [==============================] - 1s 9ms/step - loss: 78.1519 - root_mean_squared_error: 8.8404\n",
      "Epoch 63/100\n",
      "92/92 [==============================] - ETA: 0s - loss: 78.2128 - root_mean_squared_error: 8.8438"
     ]
    },
    {
     "name": "stderr",
     "output_type": "stream",
     "text": [
      "WARNING:tensorflow:Can save best model only with val_loss available, skipping.\n"
     ]
    },
    {
     "name": "stdout",
     "output_type": "stream",
     "text": [
      "92/92 [==============================] - 1s 8ms/step - loss: 78.2128 - root_mean_squared_error: 8.8438\n",
      "Epoch 64/100\n",
      "87/92 [===========================>..] - ETA: 0s - loss: 77.0970 - root_mean_squared_error: 8.7805"
     ]
    },
    {
     "name": "stderr",
     "output_type": "stream",
     "text": [
      "WARNING:tensorflow:Can save best model only with val_loss available, skipping.\n"
     ]
    },
    {
     "name": "stdout",
     "output_type": "stream",
     "text": [
      "92/92 [==============================] - 1s 7ms/step - loss: 78.5872 - root_mean_squared_error: 8.8649\n",
      "Epoch 65/100\n",
      "87/92 [===========================>..] - ETA: 0s - loss: 79.4403 - root_mean_squared_error: 8.9129"
     ]
    },
    {
     "name": "stderr",
     "output_type": "stream",
     "text": [
      "WARNING:tensorflow:Can save best model only with val_loss available, skipping.\n"
     ]
    },
    {
     "name": "stdout",
     "output_type": "stream",
     "text": [
      "92/92 [==============================] - 1s 8ms/step - loss: 79.1547 - root_mean_squared_error: 8.8969\n",
      "Epoch 66/100\n",
      "92/92 [==============================] - ETA: 0s - loss: 78.9739 - root_mean_squared_error: 8.8867"
     ]
    },
    {
     "name": "stderr",
     "output_type": "stream",
     "text": [
      "WARNING:tensorflow:Can save best model only with val_loss available, skipping.\n"
     ]
    },
    {
     "name": "stdout",
     "output_type": "stream",
     "text": [
      "92/92 [==============================] - 1s 8ms/step - loss: 78.9739 - root_mean_squared_error: 8.8867\n",
      "Epoch 67/100\n",
      "90/92 [============================>.] - ETA: 0s - loss: 78.0673 - root_mean_squared_error: 8.8356"
     ]
    },
    {
     "name": "stderr",
     "output_type": "stream",
     "text": [
      "WARNING:tensorflow:Can save best model only with val_loss available, skipping.\n"
     ]
    },
    {
     "name": "stdout",
     "output_type": "stream",
     "text": [
      "92/92 [==============================] - 1s 9ms/step - loss: 78.5657 - root_mean_squared_error: 8.8637\n",
      "Epoch 68/100\n",
      "89/92 [============================>.] - ETA: 0s - loss: 77.7036 - root_mean_squared_error: 8.8150"
     ]
    },
    {
     "name": "stderr",
     "output_type": "stream",
     "text": [
      "WARNING:tensorflow:Can save best model only with val_loss available, skipping.\n"
     ]
    },
    {
     "name": "stdout",
     "output_type": "stream",
     "text": [
      "92/92 [==============================] - 1s 9ms/step - loss: 77.8113 - root_mean_squared_error: 8.8211\n",
      "Epoch 69/100\n",
      "89/92 [============================>.] - ETA: 0s - loss: 79.1293 - root_mean_squared_error: 8.8955"
     ]
    },
    {
     "name": "stderr",
     "output_type": "stream",
     "text": [
      "WARNING:tensorflow:Can save best model only with val_loss available, skipping.\n"
     ]
    },
    {
     "name": "stdout",
     "output_type": "stream",
     "text": [
      "92/92 [==============================] - 1s 9ms/step - loss: 78.4578 - root_mean_squared_error: 8.8576\n",
      "Epoch 70/100\n",
      "92/92 [==============================] - ETA: 0s - loss: 78.4460 - root_mean_squared_error: 8.8570"
     ]
    },
    {
     "name": "stderr",
     "output_type": "stream",
     "text": [
      "WARNING:tensorflow:Can save best model only with val_loss available, skipping.\n"
     ]
    },
    {
     "name": "stdout",
     "output_type": "stream",
     "text": [
      "92/92 [==============================] - 1s 9ms/step - loss: 78.4460 - root_mean_squared_error: 8.8570\n",
      "Epoch 71/100\n",
      "88/92 [===========================>..] - ETA: 0s - loss: 76.3027 - root_mean_squared_error: 8.7351"
     ]
    },
    {
     "name": "stderr",
     "output_type": "stream",
     "text": [
      "WARNING:tensorflow:Can save best model only with val_loss available, skipping.\n"
     ]
    },
    {
     "name": "stdout",
     "output_type": "stream",
     "text": [
      "92/92 [==============================] - 1s 8ms/step - loss: 77.9663 - root_mean_squared_error: 8.8299\n",
      "Epoch 72/100\n",
      "90/92 [============================>.] - ETA: 0s - loss: 79.0082 - root_mean_squared_error: 8.8887"
     ]
    },
    {
     "name": "stderr",
     "output_type": "stream",
     "text": [
      "WARNING:tensorflow:Can save best model only with val_loss available, skipping.\n"
     ]
    },
    {
     "name": "stdout",
     "output_type": "stream",
     "text": [
      "92/92 [==============================] - 1s 9ms/step - loss: 78.1958 - root_mean_squared_error: 8.8428\n",
      "Epoch 73/100\n",
      "91/92 [============================>.] - ETA: 0s - loss: 77.9847 - root_mean_squared_error: 8.8309"
     ]
    },
    {
     "name": "stderr",
     "output_type": "stream",
     "text": [
      "WARNING:tensorflow:Can save best model only with val_loss available, skipping.\n"
     ]
    },
    {
     "name": "stdout",
     "output_type": "stream",
     "text": [
      "92/92 [==============================] - 1s 9ms/step - loss: 77.7545 - root_mean_squared_error: 8.8179\n",
      "Epoch 74/100\n",
      "88/92 [===========================>..] - ETA: 0s - loss: 78.6620 - root_mean_squared_error: 8.8692"
     ]
    },
    {
     "name": "stderr",
     "output_type": "stream",
     "text": [
      "WARNING:tensorflow:Can save best model only with val_loss available, skipping.\n"
     ]
    },
    {
     "name": "stdout",
     "output_type": "stream",
     "text": [
      "92/92 [==============================] - 1s 8ms/step - loss: 78.3426 - root_mean_squared_error: 8.8511\n",
      "Epoch 75/100\n",
      "90/92 [============================>.] - ETA: 0s - loss: 78.1318 - root_mean_squared_error: 8.8392"
     ]
    },
    {
     "name": "stderr",
     "output_type": "stream",
     "text": [
      "WARNING:tensorflow:Can save best model only with val_loss available, skipping.\n"
     ]
    },
    {
     "name": "stdout",
     "output_type": "stream",
     "text": [
      "92/92 [==============================] - 1s 8ms/step - loss: 78.0368 - root_mean_squared_error: 8.8338\n",
      "Epoch 76/100\n",
      "87/92 [===========================>..] - ETA: 0s - loss: 78.0676 - root_mean_squared_error: 8.8356"
     ]
    },
    {
     "name": "stderr",
     "output_type": "stream",
     "text": [
      "WARNING:tensorflow:Can save best model only with val_loss available, skipping.\n"
     ]
    },
    {
     "name": "stdout",
     "output_type": "stream",
     "text": [
      "92/92 [==============================] - 1s 9ms/step - loss: 78.5933 - root_mean_squared_error: 8.8653\n",
      "Epoch 77/100\n",
      "90/92 [============================>.] - ETA: 0s - loss: 77.9409 - root_mean_squared_error: 8.8284"
     ]
    },
    {
     "name": "stderr",
     "output_type": "stream",
     "text": [
      "WARNING:tensorflow:Can save best model only with val_loss available, skipping.\n"
     ]
    },
    {
     "name": "stdout",
     "output_type": "stream",
     "text": [
      "92/92 [==============================] - 1s 9ms/step - loss: 78.0773 - root_mean_squared_error: 8.8361\n",
      "Epoch 78/100\n",
      "88/92 [===========================>..] - ETA: 0s - loss: 76.9157 - root_mean_squared_error: 8.7702"
     ]
    },
    {
     "name": "stderr",
     "output_type": "stream",
     "text": [
      "WARNING:tensorflow:Can save best model only with val_loss available, skipping.\n"
     ]
    },
    {
     "name": "stdout",
     "output_type": "stream",
     "text": [
      "92/92 [==============================] - 1s 8ms/step - loss: 78.5133 - root_mean_squared_error: 8.8608\n",
      "Epoch 79/100\n",
      "91/92 [============================>.] - ETA: 0s - loss: 78.0944 - root_mean_squared_error: 8.8371"
     ]
    },
    {
     "name": "stderr",
     "output_type": "stream",
     "text": [
      "WARNING:tensorflow:Can save best model only with val_loss available, skipping.\n"
     ]
    },
    {
     "name": "stdout",
     "output_type": "stream",
     "text": [
      "92/92 [==============================] - 1s 9ms/step - loss: 77.8833 - root_mean_squared_error: 8.8251\n",
      "Epoch 80/100\n",
      "90/92 [============================>.] - ETA: 0s - loss: 78.4391 - root_mean_squared_error: 8.8566"
     ]
    },
    {
     "name": "stderr",
     "output_type": "stream",
     "text": [
      "WARNING:tensorflow:Can save best model only with val_loss available, skipping.\n"
     ]
    },
    {
     "name": "stdout",
     "output_type": "stream",
     "text": [
      "92/92 [==============================] - 1s 9ms/step - loss: 77.7386 - root_mean_squared_error: 8.8170\n",
      "Epoch 81/100\n",
      "92/92 [==============================] - ETA: 0s - loss: 78.0204 - root_mean_squared_error: 8.8329"
     ]
    },
    {
     "name": "stderr",
     "output_type": "stream",
     "text": [
      "WARNING:tensorflow:Can save best model only with val_loss available, skipping.\n"
     ]
    },
    {
     "name": "stdout",
     "output_type": "stream",
     "text": [
      "92/92 [==============================] - 1s 11ms/step - loss: 78.0204 - root_mean_squared_error: 8.8329\n",
      "Epoch 82/100\n",
      "88/92 [===========================>..] - ETA: 0s - loss: 78.7865 - root_mean_squared_error: 8.8762"
     ]
    },
    {
     "name": "stderr",
     "output_type": "stream",
     "text": [
      "WARNING:tensorflow:Can save best model only with val_loss available, skipping.\n"
     ]
    },
    {
     "name": "stdout",
     "output_type": "stream",
     "text": [
      "92/92 [==============================] - 1s 10ms/step - loss: 78.4897 - root_mean_squared_error: 8.8594\n",
      "Epoch 83/100\n",
      "88/92 [===========================>..] - ETA: 0s - loss: 79.6048 - root_mean_squared_error: 8.9222"
     ]
    },
    {
     "name": "stderr",
     "output_type": "stream",
     "text": [
      "WARNING:tensorflow:Can save best model only with val_loss available, skipping.\n"
     ]
    },
    {
     "name": "stdout",
     "output_type": "stream",
     "text": [
      "92/92 [==============================] - 1s 11ms/step - loss: 78.1032 - root_mean_squared_error: 8.8376\n",
      "Epoch 84/100\n",
      "90/92 [============================>.] - ETA: 0s - loss: 78.7145 - root_mean_squared_error: 8.8721"
     ]
    },
    {
     "name": "stderr",
     "output_type": "stream",
     "text": [
      "WARNING:tensorflow:Can save best model only with val_loss available, skipping.\n"
     ]
    },
    {
     "name": "stdout",
     "output_type": "stream",
     "text": [
      "92/92 [==============================] - 1s 9ms/step - loss: 78.1569 - root_mean_squared_error: 8.8406\n",
      "Epoch 85/100\n",
      "87/92 [===========================>..] - ETA: 0s - loss: 77.3833 - root_mean_squared_error: 8.7968"
     ]
    },
    {
     "name": "stderr",
     "output_type": "stream",
     "text": [
      "WARNING:tensorflow:Can save best model only with val_loss available, skipping.\n"
     ]
    },
    {
     "name": "stdout",
     "output_type": "stream",
     "text": [
      "92/92 [==============================] - 1s 9ms/step - loss: 77.9383 - root_mean_squared_error: 8.8283\n",
      "Epoch 86/100\n",
      "91/92 [============================>.] - ETA: 0s - loss: 78.1516 - root_mean_squared_error: 8.8403"
     ]
    },
    {
     "name": "stderr",
     "output_type": "stream",
     "text": [
      "WARNING:tensorflow:Can save best model only with val_loss available, skipping.\n"
     ]
    },
    {
     "name": "stdout",
     "output_type": "stream",
     "text": [
      "92/92 [==============================] - 1s 9ms/step - loss: 78.3680 - root_mean_squared_error: 8.8526\n",
      "Epoch 87/100\n",
      "86/92 [===========================>..] - ETA: 0s - loss: 74.7956 - root_mean_squared_error: 8.6484"
     ]
    },
    {
     "name": "stderr",
     "output_type": "stream",
     "text": [
      "WARNING:tensorflow:Can save best model only with val_loss available, skipping.\n"
     ]
    },
    {
     "name": "stdout",
     "output_type": "stream",
     "text": [
      "92/92 [==============================] - 1s 8ms/step - loss: 77.8027 - root_mean_squared_error: 8.8206\n",
      "Epoch 88/100\n",
      "87/92 [===========================>..] - ETA: 0s - loss: 78.8203 - root_mean_squared_error: 8.8781"
     ]
    },
    {
     "name": "stderr",
     "output_type": "stream",
     "text": [
      "WARNING:tensorflow:Can save best model only with val_loss available, skipping.\n"
     ]
    },
    {
     "name": "stdout",
     "output_type": "stream",
     "text": [
      "92/92 [==============================] - 1s 7ms/step - loss: 77.8735 - root_mean_squared_error: 8.8246\n",
      "Epoch 89/100\n",
      "89/92 [============================>.] - ETA: 0s - loss: 79.3144 - root_mean_squared_error: 8.9059"
     ]
    },
    {
     "name": "stderr",
     "output_type": "stream",
     "text": [
      "WARNING:tensorflow:Can save best model only with val_loss available, skipping.\n"
     ]
    },
    {
     "name": "stdout",
     "output_type": "stream",
     "text": [
      "92/92 [==============================] - 1s 9ms/step - loss: 78.4695 - root_mean_squared_error: 8.8583\n",
      "Epoch 90/100\n",
      "92/92 [==============================] - ETA: 0s - loss: 77.9761 - root_mean_squared_error: 8.8304"
     ]
    },
    {
     "name": "stderr",
     "output_type": "stream",
     "text": [
      "WARNING:tensorflow:Can save best model only with val_loss available, skipping.\n"
     ]
    },
    {
     "name": "stdout",
     "output_type": "stream",
     "text": [
      "92/92 [==============================] - 1s 9ms/step - loss: 77.9761 - root_mean_squared_error: 8.8304\n",
      "Epoch 91/100\n",
      "89/92 [============================>.] - ETA: 0s - loss: 79.1818 - root_mean_squared_error: 8.8984"
     ]
    },
    {
     "name": "stderr",
     "output_type": "stream",
     "text": [
      "WARNING:tensorflow:Can save best model only with val_loss available, skipping.\n"
     ]
    },
    {
     "name": "stdout",
     "output_type": "stream",
     "text": [
      "92/92 [==============================] - 1s 8ms/step - loss: 78.1728 - root_mean_squared_error: 8.8415\n",
      "Epoch 92/100\n",
      "89/92 [============================>.] - ETA: 0s - loss: 77.2428 - root_mean_squared_error: 8.7888"
     ]
    },
    {
     "name": "stderr",
     "output_type": "stream",
     "text": [
      "WARNING:tensorflow:Can save best model only with val_loss available, skipping.\n"
     ]
    },
    {
     "name": "stdout",
     "output_type": "stream",
     "text": [
      "92/92 [==============================] - 1s 7ms/step - loss: 78.1611 - root_mean_squared_error: 8.8409\n",
      "Epoch 93/100\n",
      "90/92 [============================>.] - ETA: 0s - loss: 78.0465 - root_mean_squared_error: 8.8344"
     ]
    },
    {
     "name": "stderr",
     "output_type": "stream",
     "text": [
      "WARNING:tensorflow:Can save best model only with val_loss available, skipping.\n"
     ]
    },
    {
     "name": "stdout",
     "output_type": "stream",
     "text": [
      "92/92 [==============================] - 1s 10ms/step - loss: 78.0718 - root_mean_squared_error: 8.8358\n",
      "Epoch 94/100\n",
      "90/92 [============================>.] - ETA: 0s - loss: 74.4615 - root_mean_squared_error: 8.6291"
     ]
    },
    {
     "name": "stderr",
     "output_type": "stream",
     "text": [
      "WARNING:tensorflow:Can save best model only with val_loss available, skipping.\n"
     ]
    },
    {
     "name": "stdout",
     "output_type": "stream",
     "text": [
      "92/92 [==============================] - 1s 8ms/step - loss: 77.8896 - root_mean_squared_error: 8.8255\n",
      "Epoch 95/100\n",
      "90/92 [============================>.] - ETA: 0s - loss: 78.3392 - root_mean_squared_error: 8.8509"
     ]
    },
    {
     "name": "stderr",
     "output_type": "stream",
     "text": [
      "WARNING:tensorflow:Can save best model only with val_loss available, skipping.\n"
     ]
    },
    {
     "name": "stdout",
     "output_type": "stream",
     "text": [
      "92/92 [==============================] - 1s 9ms/step - loss: 78.3752 - root_mean_squared_error: 8.8530\n",
      "Epoch 96/100\n",
      "89/92 [============================>.] - ETA: 0s - loss: 79.3089 - root_mean_squared_error: 8.9056"
     ]
    },
    {
     "name": "stderr",
     "output_type": "stream",
     "text": [
      "WARNING:tensorflow:Can save best model only with val_loss available, skipping.\n"
     ]
    },
    {
     "name": "stdout",
     "output_type": "stream",
     "text": [
      "92/92 [==============================] - 1s 9ms/step - loss: 78.3118 - root_mean_squared_error: 8.8494\n",
      "Epoch 97/100\n",
      "88/92 [===========================>..] - ETA: 0s - loss: 76.4989 - root_mean_squared_error: 8.7464"
     ]
    },
    {
     "name": "stderr",
     "output_type": "stream",
     "text": [
      "WARNING:tensorflow:Can save best model only with val_loss available, skipping.\n"
     ]
    },
    {
     "name": "stdout",
     "output_type": "stream",
     "text": [
      "92/92 [==============================] - 1s 9ms/step - loss: 77.8882 - root_mean_squared_error: 8.8254\n",
      "Epoch 98/100\n",
      "88/92 [===========================>..] - ETA: 0s - loss: 76.9329 - root_mean_squared_error: 8.7711"
     ]
    },
    {
     "name": "stderr",
     "output_type": "stream",
     "text": [
      "WARNING:tensorflow:Can save best model only with val_loss available, skipping.\n"
     ]
    },
    {
     "name": "stdout",
     "output_type": "stream",
     "text": [
      "92/92 [==============================] - 1s 9ms/step - loss: 77.6338 - root_mean_squared_error: 8.8110\n",
      "Epoch 99/100\n",
      "88/92 [===========================>..] - ETA: 0s - loss: 79.8035 - root_mean_squared_error: 8.9333"
     ]
    },
    {
     "name": "stderr",
     "output_type": "stream",
     "text": [
      "WARNING:tensorflow:Can save best model only with val_loss available, skipping.\n"
     ]
    },
    {
     "name": "stdout",
     "output_type": "stream",
     "text": [
      "92/92 [==============================] - 1s 12ms/step - loss: 77.8683 - root_mean_squared_error: 8.8243\n",
      "Epoch 100/100\n",
      "88/92 [===========================>..] - ETA: 0s - loss: 78.9122 - root_mean_squared_error: 8.8833"
     ]
    },
    {
     "name": "stderr",
     "output_type": "stream",
     "text": [
      "WARNING:tensorflow:Can save best model only with val_loss available, skipping.\n"
     ]
    },
    {
     "name": "stdout",
     "output_type": "stream",
     "text": [
      "\b\b\b\b\b\b\b\b\b\b\b\b\b\b\b\b\b\b\b\b\b\b\b\b\b\b\b\b\b\b\b\b\b\b\b\b\b\b\b\b\b\b\b\b\b\b\b\b\b\b\b\b\b\b\b\b\b\b\b\b\b\b\b\b\b\b\b\b\b\b\b\b\b\b\b\b\b\b\b\b\b\b\b\b\b\b\b\b\b\b\b\b\b\b\b\b\b\b\r",
      "92/92 [==============================] - 1s 10ms/step - loss: 77.2845 - root_mean_squared_error: 8.7912\n"
     ]
    },
    {
     "data": {
      "text/plain": [
       "<keras.src.callbacks.History at 0x17fffca2df0>"
      ]
     },
     "execution_count": 129,
     "metadata": {},
     "output_type": "execute_result"
    }
   ],
   "source": [
    "model1.fit(X_train1, y_train1, epochs=100, callbacks=[cp1])"
   ]
  },
  {
   "cell_type": "code",
   "execution_count": 130,
   "id": "587f991a",
   "metadata": {},
   "outputs": [
    {
     "name": "stdout",
     "output_type": "stream",
     "text": [
      "92/92 [==============================] - 1s 5ms/step\n"
     ]
    },
    {
     "data": {
      "text/html": [
       "<div>\n",
       "<style scoped>\n",
       "    .dataframe tbody tr th:only-of-type {\n",
       "        vertical-align: middle;\n",
       "    }\n",
       "\n",
       "    .dataframe tbody tr th {\n",
       "        vertical-align: top;\n",
       "    }\n",
       "\n",
       "    .dataframe thead th {\n",
       "        text-align: right;\n",
       "    }\n",
       "</style>\n",
       "<table border=\"1\" class=\"dataframe\">\n",
       "  <thead>\n",
       "    <tr style=\"text-align: right;\">\n",
       "      <th></th>\n",
       "      <th>Train Predictions</th>\n",
       "      <th>Actuals</th>\n",
       "    </tr>\n",
       "  </thead>\n",
       "  <tbody>\n",
       "    <tr>\n",
       "      <th>0</th>\n",
       "      <td>42.975460</td>\n",
       "      <td>42.860001</td>\n",
       "    </tr>\n",
       "    <tr>\n",
       "      <th>1</th>\n",
       "      <td>42.849964</td>\n",
       "      <td>45.900002</td>\n",
       "    </tr>\n",
       "    <tr>\n",
       "      <th>2</th>\n",
       "      <td>45.529125</td>\n",
       "      <td>45.900002</td>\n",
       "    </tr>\n",
       "    <tr>\n",
       "      <th>3</th>\n",
       "      <td>45.404743</td>\n",
       "      <td>48.619999</td>\n",
       "    </tr>\n",
       "    <tr>\n",
       "      <th>4</th>\n",
       "      <td>47.888966</td>\n",
       "      <td>48.619999</td>\n",
       "    </tr>\n",
       "    <tr>\n",
       "      <th>...</th>\n",
       "      <td>...</td>\n",
       "      <td>...</td>\n",
       "    </tr>\n",
       "    <tr>\n",
       "      <th>2917</th>\n",
       "      <td>299.671234</td>\n",
       "      <td>309.420013</td>\n",
       "    </tr>\n",
       "    <tr>\n",
       "      <th>2918</th>\n",
       "      <td>309.307495</td>\n",
       "      <td>309.420013</td>\n",
       "    </tr>\n",
       "    <tr>\n",
       "      <th>2919</th>\n",
       "      <td>309.777008</td>\n",
       "      <td>272.420013</td>\n",
       "    </tr>\n",
       "    <tr>\n",
       "      <th>2920</th>\n",
       "      <td>275.797058</td>\n",
       "      <td>259.579987</td>\n",
       "    </tr>\n",
       "    <tr>\n",
       "      <th>2921</th>\n",
       "      <td>259.837250</td>\n",
       "      <td>278.010010</td>\n",
       "    </tr>\n",
       "  </tbody>\n",
       "</table>\n",
       "<p>2922 rows × 2 columns</p>\n",
       "</div>"
      ],
      "text/plain": [
       "      Train Predictions     Actuals\n",
       "0             42.975460   42.860001\n",
       "1             42.849964   45.900002\n",
       "2             45.529125   45.900002\n",
       "3             45.404743   48.619999\n",
       "4             47.888966   48.619999\n",
       "...                 ...         ...\n",
       "2917         299.671234  309.420013\n",
       "2918         309.307495  309.420013\n",
       "2919         309.777008  272.420013\n",
       "2920         275.797058  259.579987\n",
       "2921         259.837250  278.010010\n",
       "\n",
       "[2922 rows x 2 columns]"
      ]
     },
     "execution_count": 130,
     "metadata": {},
     "output_type": "execute_result"
    }
   ],
   "source": [
    "train_predictions = model1.predict(X_train1).flatten()\n",
    "train_results = pd.DataFrame(data={'Train Predictions':train_predictions, 'Actuals':y_train1})\n",
    "train_results"
   ]
  },
  {
   "cell_type": "code",
   "execution_count": 131,
   "id": "bc676841",
   "metadata": {},
   "outputs": [
    {
     "data": {
      "text/plain": [
       "[<matplotlib.lines.Line2D at 0x17ffffb10d0>]"
      ]
     },
     "execution_count": 131,
     "metadata": {},
     "output_type": "execute_result"
    },
    {
     "data": {
      "image/png": "[encoded data removed]",
      "text/plain": [
       "<Figure size 432x288 with 1 Axes>"
      ]
     },
     "metadata": {},
     "output_type": "display_data"
    }
   ],
   "source": [
    "\n",
    "plt.plot(train_results['Train Predictions'][50:100])\n",
    "plt.plot(train_results['Actuals'][50:100])"
   ]
  },
  {
   "cell_type": "code",
   "execution_count": 132,
   "id": "706ec0b4",
   "metadata": {},
   "outputs": [
    {
     "name": "stdout",
     "output_type": "stream",
     "text": [
      "12/12 [==============================] - 0s 3ms/step\n"
     ]
    },
    {
     "data": {
      "text/html": [
       "<div>\n",
       "<style scoped>\n",
       "    .dataframe tbody tr th:only-of-type {\n",
       "        vertical-align: middle;\n",
       "    }\n",
       "\n",
       "    .dataframe tbody tr th {\n",
       "        vertical-align: top;\n",
       "    }\n",
       "\n",
       "    .dataframe thead th {\n",
       "        text-align: right;\n",
       "    }\n",
       "</style>\n",
       "<table border=\"1\" class=\"dataframe\">\n",
       "  <thead>\n",
       "    <tr style=\"text-align: right;\">\n",
       "      <th></th>\n",
       "      <th>Test Predictions</th>\n",
       "      <th>Actuals</th>\n",
       "    </tr>\n",
       "  </thead>\n",
       "  <tbody>\n",
       "    <tr>\n",
       "      <th>0</th>\n",
       "      <td>280.336121</td>\n",
       "      <td>260.399994</td>\n",
       "    </tr>\n",
       "    <tr>\n",
       "      <th>1</th>\n",
       "      <td>267.107788</td>\n",
       "      <td>260.399994</td>\n",
       "    </tr>\n",
       "    <tr>\n",
       "      <th>2</th>\n",
       "      <td>262.028473</td>\n",
       "      <td>228.169998</td>\n",
       "    </tr>\n",
       "    <tr>\n",
       "      <th>3</th>\n",
       "      <td>235.033478</td>\n",
       "      <td>254.690002</td>\n",
       "    </tr>\n",
       "    <tr>\n",
       "      <th>4</th>\n",
       "      <td>250.598480</td>\n",
       "      <td>304.799988</td>\n",
       "    </tr>\n",
       "    <tr>\n",
       "      <th>...</th>\n",
       "      <td>...</td>\n",
       "      <td>...</td>\n",
       "    </tr>\n",
       "    <tr>\n",
       "      <th>351</th>\n",
       "      <td>241.507294</td>\n",
       "      <td>238.729996</td>\n",
       "    </tr>\n",
       "    <tr>\n",
       "      <th>352</th>\n",
       "      <td>241.493683</td>\n",
       "      <td>236.960007</td>\n",
       "    </tr>\n",
       "    <tr>\n",
       "      <th>353</th>\n",
       "      <td>239.809540</td>\n",
       "      <td>234.529999</td>\n",
       "    </tr>\n",
       "    <tr>\n",
       "      <th>354</th>\n",
       "      <td>236.881104</td>\n",
       "      <td>241.009995</td>\n",
       "    </tr>\n",
       "    <tr>\n",
       "      <th>355</th>\n",
       "      <td>242.261414</td>\n",
       "      <td>239.820007</td>\n",
       "    </tr>\n",
       "  </tbody>\n",
       "</table>\n",
       "<p>356 rows × 2 columns</p>\n",
       "</div>"
      ],
      "text/plain": [
       "     Test Predictions     Actuals\n",
       "0          280.336121  260.399994\n",
       "1          267.107788  260.399994\n",
       "2          262.028473  228.169998\n",
       "3          235.033478  254.690002\n",
       "4          250.598480  304.799988\n",
       "..                ...         ...\n",
       "351        241.507294  238.729996\n",
       "352        241.493683  236.960007\n",
       "353        239.809540  234.529999\n",
       "354        236.881104  241.009995\n",
       "355        242.261414  239.820007\n",
       "\n",
       "[356 rows x 2 columns]"
      ]
     },
     "execution_count": 132,
     "metadata": {},
     "output_type": "execute_result"
    }
   ],
   "source": [
    "test_predictions = model1.predict(X_test1).flatten()\n",
    "test_results = pd.DataFrame(data={'Test Predictions':test_predictions, 'Actuals':y_test1})\n",
    "test_results"
   ]
  },
  {
   "cell_type": "code",
   "execution_count": 133,
   "id": "493be2d6",
   "metadata": {},
   "outputs": [
    {
     "data": {
      "text/plain": [
       "[<matplotlib.lines.Line2D at 0x17f81071520>]"
      ]
     },
     "execution_count": 133,
     "metadata": {},
     "output_type": "execute_result"
    },
    {
     "data": {
      "image/png": "[encoded data removed]",
      "text/plain": [
       "<Figure size 432x288 with 1 Axes>"
      ]
     },
     "metadata": {},
     "output_type": "display_data"
    }
   ],
   "source": [
    "plt.plot(test_results['Test Predictions'][:356])\n",
    "plt.plot(test_results['Actuals'][:356])"
   ]
  },
  {
   "cell_type": "markdown",
   "id": "74b5d25a",
   "metadata": {},
   "source": [
    "# Evaluating forecast results"
   ]
  },
  {
   "cell_type": "code",
   "execution_count": 134,
   "id": "d850e62a",
   "metadata": {},
   "outputs": [
    {
     "name": "stdout",
     "output_type": "stream",
     "text": [
      "RMSE Score on Test set: 16.69\n"
     ]
    }
   ],
   "source": [
    "score = np.sqrt(mean_squared_error(test_results['Test Predictions'], test_results['Actuals']))\n",
    "print(f'RMSE Score on Test set: {score:0.2f}')"
   ]
  },
  {
   "cell_type": "code",
   "execution_count": 135,
   "id": "7620e3b6",
   "metadata": {},
   "outputs": [
    {
     "name": "stdout",
     "output_type": "stream",
     "text": [
      "MSE: 278.4970885387904\n",
      "MAE: 10.398200778981412\n",
      "RMSE: 16.68823203754042\n",
      "MAPE: 0.038701682938195155\n"
     ]
    }
   ],
   "source": [
    "# report performance\n",
    "mse = mean_squared_error(test_predictions, y_test1)\n",
    "print('MSE: '+str(mse))\n",
    "mae = mean_absolute_error(test_predictions, y_test1)\n",
    "print('MAE: '+str(mae))\n",
    "rmse = math.sqrt(mean_squared_error(test_predictions, y_test1))\n",
    "print('RMSE: '+str(rmse))\n",
    "mape = np.mean(np.abs(y_test1 - test_predictions)/np.abs(test_predictions))\n",
    "print('MAPE: '+str(mape))"
   ]
  },
  {
   "cell_type": "code",
   "execution_count": 137,
   "id": "a4ff7ca2",
   "metadata": {},
   "outputs": [
    {
     "data": {
      "text/plain": [
       "0.352112676056338"
      ]
     },
     "execution_count": 137,
     "metadata": {},
     "output_type": "execute_result"
    }
   ],
   "source": [
    "get_mda(y_test1,test_predictions)"
   ]
  },
  {
   "cell_type": "code",
   "execution_count": null,
   "id": "0105450d",
   "metadata": {},
   "outputs": [],
   "source": []
  }
 ],
 "metadata": {
  "kernelspec": {
   "display_name": "Python 3 (ipykernel)",
   "language": "python",
   "name": "python3"
  },
  "language_info": {
   "codemirror_mode": {
    "name": "ipython",
    "version": 3
   },
   "file_extension": ".py",
   "mimetype": "text/x-python",
   "name": "python",
   "nbconvert_exporter": "python",
   "pygments_lexer": "ipython3",
   "version": "3.9.12"
  }
 },
 "nbformat": 4,
 "nbformat_minor": 5
}
